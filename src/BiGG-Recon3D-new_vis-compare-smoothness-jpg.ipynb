{
 "cells": [
  {
   "cell_type": "code",
   "execution_count": 1,
   "metadata": {},
   "outputs": [],
   "source": [
    "# Specification\n",
    "# https://github.com/SBRG/bigg_models/wiki/BiGG-Models-ID-Specification-and-Guidelines"
   ]
  },
  {
   "cell_type": "code",
   "execution_count": 2,
   "metadata": {},
   "outputs": [],
   "source": [
    "import numpy as np\n",
    "import pandas as pd\n",
    "import matplotlib.pyplot as plt\n",
    "import networkx as nx\n",
    "import json"
   ]
  },
  {
   "cell_type": "code",
   "execution_count": 3,
   "metadata": {},
   "outputs": [],
   "source": [
    "with open('../data/Recon3D.json', 'r') as file:\n",
    "    models = json.loads(file.read())"
   ]
  },
  {
   "cell_type": "markdown",
   "metadata": {},
   "source": [
    "## Data Inspection"
   ]
  },
  {
   "cell_type": "code",
   "execution_count": 4,
   "metadata": {},
   "outputs": [
    {
     "data": {
      "text/plain": [
       "dict"
      ]
     },
     "execution_count": 4,
     "metadata": {},
     "output_type": "execute_result"
    }
   ],
   "source": [
    "type(models)"
   ]
  },
  {
   "cell_type": "code",
   "execution_count": 5,
   "metadata": {},
   "outputs": [
    {
     "data": {
      "text/plain": [
       "6"
      ]
     },
     "execution_count": 5,
     "metadata": {},
     "output_type": "execute_result"
    }
   ],
   "source": [
    "len(models)"
   ]
  },
  {
   "cell_type": "code",
   "execution_count": 6,
   "metadata": {},
   "outputs": [
    {
     "data": {
      "text/plain": [
       "dict_keys(['metabolites', 'reactions', 'genes', 'id', 'compartments', 'version'])"
      ]
     },
     "execution_count": 6,
     "metadata": {},
     "output_type": "execute_result"
    }
   ],
   "source": [
    "models.keys()"
   ]
  },
  {
   "cell_type": "code",
   "execution_count": 7,
   "metadata": {},
   "outputs": [
    {
     "data": {
      "text/plain": [
       "'Recon3D'"
      ]
     },
     "execution_count": 7,
     "metadata": {},
     "output_type": "execute_result"
    }
   ],
   "source": [
    "models['id']"
   ]
  },
  {
   "cell_type": "code",
   "execution_count": 8,
   "metadata": {},
   "outputs": [
    {
     "data": {
      "text/plain": [
       "'1'"
      ]
     },
     "execution_count": 8,
     "metadata": {},
     "output_type": "execute_result"
    }
   ],
   "source": [
    "models['version']"
   ]
  },
  {
   "cell_type": "code",
   "execution_count": 9,
   "metadata": {},
   "outputs": [
    {
     "data": {
      "text/plain": [
       "{'c': 'cytosol',\n",
       " 'e': 'extracellular space',\n",
       " 'g': 'golgi apparatus',\n",
       " 'i': 'inner mitochondrial compartment',\n",
       " 'l': 'lysosome',\n",
       " 'm': 'mitochondria',\n",
       " 'n': 'nucleus',\n",
       " 'r': 'endoplasmic reticulum',\n",
       " 'x': 'peroxisome/glyoxysome'}"
      ]
     },
     "execution_count": 9,
     "metadata": {},
     "output_type": "execute_result"
    }
   ],
   "source": [
    "models['compartments']"
   ]
  },
  {
   "cell_type": "code",
   "execution_count": 10,
   "metadata": {},
   "outputs": [
    {
     "data": {
      "text/plain": [
       "[{'id': '24_25DHVITD3tm',\n",
       "  'name': '24,25-Dihydroxyvitamin D3 transport from mitochondria',\n",
       "  'metabolites': {'2425dhvitd3_c': 1.0, '2425dhvitd3_m': -1.0},\n",
       "  'lower_bound': 0.0,\n",
       "  'upper_bound': 1000.0,\n",
       "  'gene_reaction_rule': '',\n",
       "  'subsystem': 'Transport, mitochondrial',\n",
       "  'notes': {'original_bigg_ids': ['24_25DHVITD3tm']},\n",
       "  'annotation': {'bigg.reaction': ['24_25DHVITD3tm'],\n",
       "   'metanetx.reaction': ['MNXR94734'],\n",
       "   'sbo': 'SBO:0000185'}},\n",
       " {'id': '25HVITD3t',\n",
       "  'name': '25-hydroxyvitamin D3 transport from cytoplasm',\n",
       "  'metabolites': {'25hvitd3_c': -1.0, '25hvitd3_e': 1.0},\n",
       "  'lower_bound': 0.0,\n",
       "  'upper_bound': 1000.0,\n",
       "  'gene_reaction_rule': '',\n",
       "  'subsystem': 'Transport, extracellular',\n",
       "  'notes': {'original_bigg_ids': ['25HVITD3t']},\n",
       "  'annotation': {'bigg.reaction': ['25HVITD3t'],\n",
       "   'metanetx.reaction': ['MNXR94739'],\n",
       "   'sbo': 'SBO:0000185'}}]"
      ]
     },
     "execution_count": 10,
     "metadata": {},
     "output_type": "execute_result"
    }
   ],
   "source": [
    "models['reactions'][:2]"
   ]
  },
  {
   "cell_type": "code",
   "execution_count": 11,
   "metadata": {},
   "outputs": [
    {
     "data": {
      "text/plain": [
       "[{'id': '10fthf_c',\n",
       "  'name': '10-Formyltetrahydrofolate',\n",
       "  'compartment': 'c',\n",
       "  'charge': -2,\n",
       "  'formula': 'C20H21N7O7',\n",
       "  'notes': {'original_bigg_ids': ['10fthf[c]']},\n",
       "  'annotation': {'bigg.metabolite': ['10fthf'],\n",
       "   'biocyc': ['META:10-FORMYL-THF'],\n",
       "   'chebi': ['CHEBI:19108',\n",
       "    'CHEBI:15637',\n",
       "    'CHEBI:698',\n",
       "    'CHEBI:19109',\n",
       "    'CHEBI:11304',\n",
       "    'CHEBI:57454'],\n",
       "   'hmdb': ['HMDB00972'],\n",
       "   'inchi_key': ['AUFGTPPARQZWDO-YPMHNXCESA-L'],\n",
       "   'kegg.compound': ['C00234'],\n",
       "   'metanetx.chemical': ['MNXM237'],\n",
       "   'reactome.compound': ['5389850', '419151'],\n",
       "   'sabiork': ['1318'],\n",
       "   'sbo': 'SBO:0000247',\n",
       "   'seed.compound': ['cpd00201']}},\n",
       " {'id': '10fthf_l',\n",
       "  'name': '10-Formyltetrahydrofolate',\n",
       "  'compartment': 'l',\n",
       "  'charge': -2,\n",
       "  'formula': 'C20H21N7O7',\n",
       "  'notes': {'original_bigg_ids': ['10fthf[l]']},\n",
       "  'annotation': {'bigg.metabolite': ['10fthf'],\n",
       "   'biocyc': ['META:10-FORMYL-THF'],\n",
       "   'chebi': ['CHEBI:19108',\n",
       "    'CHEBI:15637',\n",
       "    'CHEBI:698',\n",
       "    'CHEBI:19109',\n",
       "    'CHEBI:11304',\n",
       "    'CHEBI:57454'],\n",
       "   'hmdb': ['HMDB00972'],\n",
       "   'inchi_key': ['AUFGTPPARQZWDO-YPMHNXCESA-L'],\n",
       "   'kegg.compound': ['C00234'],\n",
       "   'metanetx.chemical': ['MNXM237'],\n",
       "   'reactome.compound': ['5389850', '419151'],\n",
       "   'sabiork': ['1318'],\n",
       "   'sbo': 'SBO:0000247',\n",
       "   'seed.compound': ['cpd00201']}}]"
      ]
     },
     "execution_count": 11,
     "metadata": {},
     "output_type": "execute_result"
    }
   ],
   "source": [
    "models['metabolites'][:2]"
   ]
  },
  {
   "cell_type": "markdown",
   "metadata": {},
   "source": [
    "## 'gene reaction rule' in 'reactions'"
   ]
  },
  {
   "cell_type": "code",
   "execution_count": 12,
   "metadata": {},
   "outputs": [
    {
     "name": "stdout",
     "output_type": "stream",
     "text": [
      "\n",
      "\n",
      "\n",
      "\n",
      "\n",
      "\n",
      "\n",
      "\n",
      "\n",
      "\n",
      "1591_AT1\n",
      "\n",
      "\n",
      "\n",
      "\n",
      "8639_AT1 or 26_AT1 or 314_AT2 or 314_AT1\n",
      "\n",
      "\n",
      "\n",
      "1594_AT1\n",
      "10993_AT1\n",
      "6818_AT1\n",
      "89874_AT1\n",
      "\n",
      "(4967_AT2 and 1738_AT1 and 8050_AT1 and 1743_AT1) or (4967_AT1 and 1738_AT1 and 8050_AT1 and 1743_AT1)\n",
      "89874_AT1\n",
      "117247_AT1\n",
      "221_AT1 or 218_AT1 or 220_AT1\n",
      "\n",
      "18_AT1 or 18_AT2\n",
      "23498_AT1\n",
      "\n",
      "\n",
      "4128_AT1 or 4129_AT1\n",
      "\n",
      "4129_AT1 or 8639_AT1 or 26_AT1 or 314_AT2 or 314_AT1 or 4128_AT1\n",
      "\n",
      "\n",
      "\n",
      "222_AT1 or 220_AT1 or 221_AT1 or 218_AT1\n",
      "\n",
      "\n",
      "6799_AT1 or 6817_AT3 or 6799_AT2 or 6818_AT2 or 6817_AT2 or 6818_AT1 or 6817_AT1 or 6817_AT4 or 6818_AT3 or 6817_AT5\n",
      "\n",
      "\n",
      "6822_AT1 or 6818_AT1\n",
      "\n",
      "6573_AT1 or 6573_AT2\n",
      "4128_AT1 or 4129_AT1\n",
      "\n",
      "\n",
      "\n",
      "\n",
      "53947_AT1\n",
      "53947_AT1\n",
      "51146_AT1\n",
      "\n",
      "28_AT1\n",
      "28_AT1\n",
      "28_AT1\n"
     ]
    }
   ],
   "source": [
    "for i, reaction in enumerate(models['reactions']):\n",
    "    if i < 60:\n",
    "        print(reaction['gene_reaction_rule'])\n",
    "    else:\n",
    "        break\n",
    "        "
   ]
  },
  {
   "cell_type": "markdown",
   "metadata": {},
   "source": [
    "From above, we see that some reactions are ruled by some genes, and some reactions are not ruled by any gene."
   ]
  },
  {
   "cell_type": "markdown",
   "metadata": {},
   "source": [
    "## look at a spefic reaction and compare data to its web infomation"
   ]
  },
  {
   "cell_type": "code",
   "execution_count": 13,
   "metadata": {},
   "outputs": [],
   "source": [
    "# http://bigg.ucsd.edu/models/iND750/reactions/13BGH\n",
    "for reaction in models['reactions']:\n",
    "    if reaction['id'] == '13BGH':\n",
    "        print(reaction)"
   ]
  },
  {
   "cell_type": "markdown",
   "metadata": {},
   "source": [
    "The useful attribute here is *'metabolites'*, "
   ]
  },
  {
   "cell_type": "code",
   "execution_count": 14,
   "metadata": {},
   "outputs": [],
   "source": [
    "for gene in models['genes']:\n",
    "    if gene['id'] == 'YGR282C':\n",
    "        print(gene)"
   ]
  },
  {
   "cell_type": "markdown",
   "metadata": {},
   "source": [
    "## Data Preparation"
   ]
  },
  {
   "cell_type": "code",
   "execution_count": 15,
   "metadata": {},
   "outputs": [],
   "source": [
    "# step 1: find one gene\n",
    "# step 2: find the reactions which are ruled by this gene\n",
    "# step 3: find the substrate (< 0) and products (> 0) of one of these reactions. Repeat for all reactions ruled by this gene.\n",
    "# step 4: repeat above steps for all genes -- every gene has a list of substrates and products.\n",
    "# step 5: if a product of gene A is a substrate of gene B, then gene A and gene B has a connection"
   ]
  },
  {
   "cell_type": "code",
   "execution_count": 16,
   "metadata": {},
   "outputs": [],
   "source": [
    "genes = {}\n",
    "inorganics = []\n",
    "for gene in models['genes']:\n",
    "    genes[gene['id']] = {}\n",
    "    genes[gene['id']]['reactions'] = []\n",
    "    genes[gene['id']]['substrates'] = []\n",
    "    genes[gene['id']]['products'] = []\n",
    "    for reaction in models['reactions']:\n",
    "        if gene['id'] in reaction['gene_reaction_rule'] and gene['id'] not in genes[gene['id']]['reactions']:\n",
    "            genes[gene['id']]['reactions'].append(reaction['id'])\n",
    "            for metabolite, v in reaction['metabolites'].items():\n",
    "                for m in models['metabolites']:\n",
    "                    if m['id'] == metabolite:\n",
    "                        # exclude inorganic metabolites\n",
    "                        try:\n",
    "                            if 'C' in m['formula'] and m['formula'] not in ['CO2', 'CO', 'C']:\n",
    "                                if v > 0 and metabolite not in genes[gene['id']]['products']:\n",
    "                                    genes[gene['id']]['products'].append(metabolite)\n",
    "                                if v < 0 and metabolite not in genes[gene['id']]['substrates']:\n",
    "                                    genes[gene['id']]['substrates'].append(metabolite)\n",
    "                            elif metabolite not in inorganics:\n",
    "                                inorganics.append(metabolite)\n",
    "                            else:\n",
    "                                break\n",
    "                        except KeyError:\n",
    "                            print(m)\n",
    "#                     if v == 1 and metabolite not in genes[gene['id']]['products']:\n",
    "#                         genes[gene['id']]['products'].append(metabolite)\n",
    "#                     if v == -1 and metabolite not in genes[gene['id']]['substrates']:\n",
    "#                         genes[gene['id']]['substrates'].append(metabolite)\n",
    "                            \n",
    "for k0, v0 in genes.items():\n",
    "    v0['links'] = []\n",
    "    for product in v0['products']:\n",
    "        for k1, v1 in genes.items():\n",
    "            if k1 != k0 and product in v1['substrates']:\n",
    "                v0['links'].append(k1)\n",
    "                "
   ]
  },
  {
   "cell_type": "code",
   "execution_count": 17,
   "metadata": {},
   "outputs": [
    {
     "data": {
      "text/plain": [
       "['h2o_c',\n",
       " 'nh4_c',\n",
       " 'co2_m',\n",
       " 'h_c',\n",
       " 'h_l',\n",
       " 'pi_c',\n",
       " 'ppi_c',\n",
       " 'na1_c',\n",
       " 'na1_e',\n",
       " 'h_g',\n",
       " 'h2o_l',\n",
       " 'co2_c',\n",
       " 'h2o_x',\n",
       " 'o2_x',\n",
       " 'h2o_e',\n",
       " 'h2o_m',\n",
       " 'nh4_m',\n",
       " 'h_m',\n",
       " 'h_e',\n",
       " 'k_c',\n",
       " 'k_e',\n",
       " 'co2_r',\n",
       " 'h_r',\n",
       " 'h2o_r',\n",
       " 'o2_r',\n",
       " 'o2_m',\n",
       " 'o2_c',\n",
       " 'h2o2_x',\n",
       " 'nh4_x',\n",
       " 'pi_r',\n",
       " 'ppi_m',\n",
       " 'etfox_m',\n",
       " 'etfrd_m',\n",
       " 'h_x',\n",
       " 'fe2_e',\n",
       " 'fe3_e',\n",
       " 'pi_m',\n",
       " 'fucfucgalacglcgal14acglcgalgluside_hs_g',\n",
       " 'fucgalacglc13galacglcgal14acglcgalgluside_hs_g',\n",
       " 'h2o_g',\n",
       " 'h2o2_c',\n",
       " 'h2o2_m',\n",
       " 'nh4_e',\n",
       " 'pi_l',\n",
       " 'gpi_sig_r',\n",
       " 'pre_prot_r',\n",
       " 'so4_l',\n",
       " 'no_c',\n",
       " 'pi_e',\n",
       " 'so4_c',\n",
       " 'acngalacglcgalgluside_hs_g',\n",
       " 'co2_g',\n",
       " 'ppi_x',\n",
       " 'pi_x',\n",
       " 'o2_e',\n",
       " 'HC00617_c',\n",
       " 'HC00619_c',\n",
       " 'ppi_e',\n",
       " 'ppi_r',\n",
       " 'trdox_c',\n",
       " 'trdrd_c',\n",
       " 'co2_e',\n",
       " 'HC02199_c',\n",
       " 'HC02199_e',\n",
       " 'so4_e',\n",
       " 'h2o_n',\n",
       " 'trdox_n',\n",
       " 'trdrd_n',\n",
       " 'h2o2_e',\n",
       " 'so3_e',\n",
       " 'M02012_l',\n",
       " 'oh1_c',\n",
       " 'h2o2_l',\n",
       " 'peplys_c',\n",
       " 'oh1_e',\n",
       " 'h_i',\n",
       " 'galacgalfuc12gal14acglcgalgluside_hs_g',\n",
       " 'acgalfucgalacglcgal14acglcgalgluside_hs_g',\n",
       " 'galacgalfucgalacglcgal14acglcgalgluside_hs_g',\n",
       " 'ppi_n',\n",
       " 'no2_e',\n",
       " 'fe3_c',\n",
       " 'M01871_g',\n",
       " 'o2s_m',\n",
       " 'Ser_Thr_g',\n",
       " 'Tyr_ggn_c',\n",
       " 'i_c',\n",
       " 'i_e',\n",
       " 'h_n',\n",
       " 'pi_n',\n",
       " 'pppi_c',\n",
       " 'HC00250_c',\n",
       " 'HC02160_e',\n",
       " 'HC02161_e',\n",
       " 'so3_c',\n",
       " 'lpro_m',\n",
       " 'dhlpro_m',\n",
       " 'Ser_Gly_Ala_X_Gly_r',\n",
       " 'fe2_c',\n",
       " 'fe2_m',\n",
       " 'nh4_r',\n",
       " 'co2_x',\n",
       " 'na1_x',\n",
       " 'M02186_c',\n",
       " 'M02490_c',\n",
       " 'M01881_c',\n",
       " 'fucgalacgalfucgalacglcgal14acglcgalgluside_hs_g',\n",
       " 'pi_g',\n",
       " 'o2_n',\n",
       " 'o2s_c',\n",
       " 'h2o2_n',\n",
       " 'o2s_n',\n",
       " 'o2s_x',\n",
       " 'M01872_g',\n",
       " 'so4_m',\n",
       " 'so3_m',\n",
       " 'tsul_c',\n",
       " 'tsul_m',\n",
       " 'nh4_n',\n",
       " 'iodine_c',\n",
       " 'Tyr_ggn_e',\n",
       " 'Asn_X_Ser_Thr_l',\n",
       " 'na1_g',\n",
       " 'k_g',\n",
       " 'h2o2_r',\n",
       " 'HC01501_c',\n",
       " 'Ser_Gly_Ala_X_Gly_l',\n",
       " 'Ser_Thr_l',\n",
       " 'M02491_c',\n",
       " 'co_c',\n",
       " 'M03131_c',\n",
       " 'so4_r',\n",
       " 'tsul_e',\n",
       " 'na1_r',\n",
       " 'o2s_e',\n",
       " 'zn2_c',\n",
       " 'zn2_e']"
      ]
     },
     "execution_count": 17,
     "metadata": {},
     "output_type": "execute_result"
    }
   ],
   "source": [
    "inorganics"
   ]
  },
  {
   "cell_type": "code",
   "execution_count": 18,
   "metadata": {
    "scrolled": true
   },
   "outputs": [
    {
     "data": {
      "text/html": [
       "<div>\n",
       "<style scoped>\n",
       "    .dataframe tbody tr th:only-of-type {\n",
       "        vertical-align: middle;\n",
       "    }\n",
       "\n",
       "    .dataframe tbody tr th {\n",
       "        vertical-align: top;\n",
       "    }\n",
       "\n",
       "    .dataframe thead th {\n",
       "        text-align: right;\n",
       "    }\n",
       "</style>\n",
       "<table border=\"1\" class=\"dataframe\">\n",
       "  <thead>\n",
       "    <tr style=\"text-align: right;\">\n",
       "      <th></th>\n",
       "      <th>reactions</th>\n",
       "      <th>substrates</th>\n",
       "      <th>products</th>\n",
       "      <th>links</th>\n",
       "    </tr>\n",
       "  </thead>\n",
       "  <tbody>\n",
       "    <tr>\n",
       "      <th>0</th>\n",
       "      <td>[2AMACHYD, 2OXOADOXm, 34DHXMANDACOX, 4HOXPACDO...</td>\n",
       "      <td>[2amac_c, 2oxoadp_m, coa_m, nad_m, 34dhmald_c,...</td>\n",
       "      <td>[pyr_c, glutcoa_m, nadh_m, 34dhoxmand_c, nadh_...</td>\n",
       "      <td>[9194_AT1, 6566_AT1, 189_AT1, 39_AT1, 622_AT1,...</td>\n",
       "    </tr>\n",
       "    <tr>\n",
       "      <th>26_AT1</th>\n",
       "      <td>[13DAMPPOX, 42A12BOOX, ALCD21_D, ALCD22_D, ATP...</td>\n",
       "      <td>[13dampp_c, dopa_c, 12ppd__R_c, nad_c, lald__D...</td>\n",
       "      <td>[bamppald_c, 34dhpac_c, lald__D_c, nadh_c, mth...</td>\n",
       "      <td>[0, 54_AT1, 8854_AT3, 224_AT1, 501_AT1, 8854_A...</td>\n",
       "    </tr>\n",
       "    <tr>\n",
       "      <th>314_AT1</th>\n",
       "      <td>[13DAMPPOX, 42A12BOOX, MHISOR, PTRCOX1, TRYPTA...</td>\n",
       "      <td>[13dampp_c, dopa_c, mhista_c, ptrc_c, trypta_c...</td>\n",
       "      <td>[bamppald_c, 34dhpac_c, 3mldz_c, 4abutn_c, id3...</td>\n",
       "      <td>[0, 54_AT1, 8854_AT3, 224_AT1, 501_AT1, 8854_A...</td>\n",
       "    </tr>\n",
       "    <tr>\n",
       "      <th>8639_AT1</th>\n",
       "      <td>[13DAMPPOX, 42A12BOOX, MHISOR, PTRCOX1, HMR_65...</td>\n",
       "      <td>[13dampp_c, dopa_c, mhista_c, ptrc_c, pail35p_...</td>\n",
       "      <td>[bamppald_c, 34dhpac_c, 3mldz_c, 4abutn_c, pai...</td>\n",
       "      <td>[0, 54_AT1, 8854_AT3, 224_AT1, 501_AT1, 8854_A...</td>\n",
       "    </tr>\n",
       "    <tr>\n",
       "      <th>314_AT2</th>\n",
       "      <td>[13DAMPPOX, 42A12BOOX, MHISOR, PTRCOX1, TRYPTA...</td>\n",
       "      <td>[13dampp_c, dopa_c, mhista_c, ptrc_c, trypta_c...</td>\n",
       "      <td>[bamppald_c, 34dhpac_c, 3mldz_c, 4abutn_c, id3...</td>\n",
       "      <td>[0, 54_AT1, 8854_AT3, 224_AT1, 501_AT1, 8854_A...</td>\n",
       "    </tr>\n",
       "    <tr>\n",
       "      <th>...</th>\n",
       "      <td>...</td>\n",
       "      <td>...</td>\n",
       "      <td>...</td>\n",
       "      <td>...</td>\n",
       "    </tr>\n",
       "    <tr>\n",
       "      <th>27089_AT1</th>\n",
       "      <td>[CYOOm2i, CYOR_u10mi]</td>\n",
       "      <td>[focytC_m, ficytC_m, q10h2_m]</td>\n",
       "      <td>[ficytC_m, focytC_m, q10_m]</td>\n",
       "      <td>[0, 19_AT1, 384_AT1, 124637_AT1, 197257_AT1, 6...</td>\n",
       "    </tr>\n",
       "    <tr>\n",
       "      <th>10975_AT1</th>\n",
       "      <td>[CYOOm2i, CYOR_u10mi]</td>\n",
       "      <td>[focytC_m, ficytC_m, q10h2_m]</td>\n",
       "      <td>[ficytC_m, focytC_m, q10_m]</td>\n",
       "      <td>[0, 19_AT1, 384_AT1, 124637_AT1, 197257_AT1, 6...</td>\n",
       "    </tr>\n",
       "    <tr>\n",
       "      <th>7381_AT1</th>\n",
       "      <td>[CYOOm2i, CYOR_u10mi]</td>\n",
       "      <td>[focytC_m, ficytC_m, q10h2_m]</td>\n",
       "      <td>[ficytC_m, focytC_m, q10_m]</td>\n",
       "      <td>[0, 19_AT1, 384_AT1, 124637_AT1, 197257_AT1, 6...</td>\n",
       "    </tr>\n",
       "    <tr>\n",
       "      <th>29796_AT1</th>\n",
       "      <td>[CYOOm2i, CYOR_u10mi]</td>\n",
       "      <td>[focytC_m, ficytC_m, q10h2_m]</td>\n",
       "      <td>[ficytC_m, focytC_m, q10_m]</td>\n",
       "      <td>[0, 19_AT1, 384_AT1, 124637_AT1, 197257_AT1, 6...</td>\n",
       "    </tr>\n",
       "    <tr>\n",
       "      <th>4519_AT1</th>\n",
       "      <td>[CYOOm2i, CYOR_u10mi]</td>\n",
       "      <td>[focytC_m, ficytC_m, q10h2_m]</td>\n",
       "      <td>[ficytC_m, focytC_m, q10_m]</td>\n",
       "      <td>[0, 19_AT1, 384_AT1, 124637_AT1, 197257_AT1, 6...</td>\n",
       "    </tr>\n",
       "  </tbody>\n",
       "</table>\n",
       "<p>2248 rows × 4 columns</p>\n",
       "</div>"
      ],
      "text/plain": [
       "                                                   reactions  \\\n",
       "0          [2AMACHYD, 2OXOADOXm, 34DHXMANDACOX, 4HOXPACDO...   \n",
       "26_AT1     [13DAMPPOX, 42A12BOOX, ALCD21_D, ALCD22_D, ATP...   \n",
       "314_AT1    [13DAMPPOX, 42A12BOOX, MHISOR, PTRCOX1, TRYPTA...   \n",
       "8639_AT1   [13DAMPPOX, 42A12BOOX, MHISOR, PTRCOX1, HMR_65...   \n",
       "314_AT2    [13DAMPPOX, 42A12BOOX, MHISOR, PTRCOX1, TRYPTA...   \n",
       "...                                                      ...   \n",
       "27089_AT1                              [CYOOm2i, CYOR_u10mi]   \n",
       "10975_AT1                              [CYOOm2i, CYOR_u10mi]   \n",
       "7381_AT1                               [CYOOm2i, CYOR_u10mi]   \n",
       "29796_AT1                              [CYOOm2i, CYOR_u10mi]   \n",
       "4519_AT1                               [CYOOm2i, CYOR_u10mi]   \n",
       "\n",
       "                                                  substrates  \\\n",
       "0          [2amac_c, 2oxoadp_m, coa_m, nad_m, 34dhmald_c,...   \n",
       "26_AT1     [13dampp_c, dopa_c, 12ppd__R_c, nad_c, lald__D...   \n",
       "314_AT1    [13dampp_c, dopa_c, mhista_c, ptrc_c, trypta_c...   \n",
       "8639_AT1   [13dampp_c, dopa_c, mhista_c, ptrc_c, pail35p_...   \n",
       "314_AT2    [13dampp_c, dopa_c, mhista_c, ptrc_c, trypta_c...   \n",
       "...                                                      ...   \n",
       "27089_AT1                      [focytC_m, ficytC_m, q10h2_m]   \n",
       "10975_AT1                      [focytC_m, ficytC_m, q10h2_m]   \n",
       "7381_AT1                       [focytC_m, ficytC_m, q10h2_m]   \n",
       "29796_AT1                      [focytC_m, ficytC_m, q10h2_m]   \n",
       "4519_AT1                       [focytC_m, ficytC_m, q10h2_m]   \n",
       "\n",
       "                                                    products  \\\n",
       "0          [pyr_c, glutcoa_m, nadh_m, 34dhoxmand_c, nadh_...   \n",
       "26_AT1     [bamppald_c, 34dhpac_c, lald__D_c, nadh_c, mth...   \n",
       "314_AT1    [bamppald_c, 34dhpac_c, 3mldz_c, 4abutn_c, id3...   \n",
       "8639_AT1   [bamppald_c, 34dhpac_c, 3mldz_c, 4abutn_c, pai...   \n",
       "314_AT2    [bamppald_c, 34dhpac_c, 3mldz_c, 4abutn_c, id3...   \n",
       "...                                                      ...   \n",
       "27089_AT1                        [ficytC_m, focytC_m, q10_m]   \n",
       "10975_AT1                        [ficytC_m, focytC_m, q10_m]   \n",
       "7381_AT1                         [ficytC_m, focytC_m, q10_m]   \n",
       "29796_AT1                        [ficytC_m, focytC_m, q10_m]   \n",
       "4519_AT1                         [ficytC_m, focytC_m, q10_m]   \n",
       "\n",
       "                                                       links  \n",
       "0          [9194_AT1, 6566_AT1, 189_AT1, 39_AT1, 622_AT1,...  \n",
       "26_AT1     [0, 54_AT1, 8854_AT3, 224_AT1, 501_AT1, 8854_A...  \n",
       "314_AT1    [0, 54_AT1, 8854_AT3, 224_AT1, 501_AT1, 8854_A...  \n",
       "8639_AT1   [0, 54_AT1, 8854_AT3, 224_AT1, 501_AT1, 8854_A...  \n",
       "314_AT2    [0, 54_AT1, 8854_AT3, 224_AT1, 501_AT1, 8854_A...  \n",
       "...                                                      ...  \n",
       "27089_AT1  [0, 19_AT1, 384_AT1, 124637_AT1, 197257_AT1, 6...  \n",
       "10975_AT1  [0, 19_AT1, 384_AT1, 124637_AT1, 197257_AT1, 6...  \n",
       "7381_AT1   [0, 19_AT1, 384_AT1, 124637_AT1, 197257_AT1, 6...  \n",
       "29796_AT1  [0, 19_AT1, 384_AT1, 124637_AT1, 197257_AT1, 6...  \n",
       "4519_AT1   [0, 19_AT1, 384_AT1, 124637_AT1, 197257_AT1, 6...  \n",
       "\n",
       "[2248 rows x 4 columns]"
      ]
     },
     "execution_count": 18,
     "metadata": {},
     "output_type": "execute_result"
    }
   ],
   "source": [
    "df = pd.DataFrame.from_dict(genes).T\n",
    "df"
   ]
  },
  {
   "cell_type": "code",
   "execution_count": 19,
   "metadata": {},
   "outputs": [
    {
     "data": {
      "text/html": [
       "<div>\n",
       "<style scoped>\n",
       "    .dataframe tbody tr th:only-of-type {\n",
       "        vertical-align: middle;\n",
       "    }\n",
       "\n",
       "    .dataframe tbody tr th {\n",
       "        vertical-align: top;\n",
       "    }\n",
       "\n",
       "    .dataframe thead th {\n",
       "        text-align: right;\n",
       "    }\n",
       "</style>\n",
       "<table border=\"1\" class=\"dataframe\">\n",
       "  <thead>\n",
       "    <tr style=\"text-align: right;\">\n",
       "      <th></th>\n",
       "      <th>index</th>\n",
       "      <th>links</th>\n",
       "    </tr>\n",
       "  </thead>\n",
       "  <tbody>\n",
       "    <tr>\n",
       "      <th>0</th>\n",
       "      <td>0</td>\n",
       "      <td>9194_AT1</td>\n",
       "    </tr>\n",
       "    <tr>\n",
       "      <th>1</th>\n",
       "      <td>0</td>\n",
       "      <td>6566_AT1</td>\n",
       "    </tr>\n",
       "    <tr>\n",
       "      <th>2</th>\n",
       "      <td>0</td>\n",
       "      <td>189_AT1</td>\n",
       "    </tr>\n",
       "    <tr>\n",
       "      <th>3</th>\n",
       "      <td>0</td>\n",
       "      <td>39_AT1</td>\n",
       "    </tr>\n",
       "    <tr>\n",
       "      <th>4</th>\n",
       "      <td>0</td>\n",
       "      <td>622_AT1</td>\n",
       "    </tr>\n",
       "    <tr>\n",
       "      <th>...</th>\n",
       "      <td>...</td>\n",
       "      <td>...</td>\n",
       "    </tr>\n",
       "    <tr>\n",
       "      <th>232129</th>\n",
       "      <td>4519_AT1</td>\n",
       "      <td>4714_AT1</td>\n",
       "    </tr>\n",
       "    <tr>\n",
       "      <th>232130</th>\n",
       "      <td>4519_AT1</td>\n",
       "      <td>4722_AT1</td>\n",
       "    </tr>\n",
       "    <tr>\n",
       "      <th>232131</th>\n",
       "      <td>4519_AT1</td>\n",
       "      <td>51079_AT1</td>\n",
       "    </tr>\n",
       "    <tr>\n",
       "      <th>232132</th>\n",
       "      <td>4519_AT1</td>\n",
       "      <td>13_AT1</td>\n",
       "    </tr>\n",
       "    <tr>\n",
       "      <th>232133</th>\n",
       "      <td>4519_AT1</td>\n",
       "      <td>539_AT1</td>\n",
       "    </tr>\n",
       "  </tbody>\n",
       "</table>\n",
       "<p>232134 rows × 2 columns</p>\n",
       "</div>"
      ],
      "text/plain": [
       "           index      links\n",
       "0              0   9194_AT1\n",
       "1              0   6566_AT1\n",
       "2              0    189_AT1\n",
       "3              0     39_AT1\n",
       "4              0    622_AT1\n",
       "...          ...        ...\n",
       "232129  4519_AT1   4714_AT1\n",
       "232130  4519_AT1   4722_AT1\n",
       "232131  4519_AT1  51079_AT1\n",
       "232132  4519_AT1     13_AT1\n",
       "232133  4519_AT1    539_AT1\n",
       "\n",
       "[232134 rows x 2 columns]"
      ]
     },
     "execution_count": 19,
     "metadata": {},
     "output_type": "execute_result"
    }
   ],
   "source": [
    "df1 = pd.DataFrame({'index':df.index.repeat(df.links.str.len()), 'links':df.links.sum()})\n",
    "df1"
   ]
  },
  {
   "cell_type": "code",
   "execution_count": 20,
   "metadata": {},
   "outputs": [
    {
     "name": "stdout",
     "output_type": "stream",
     "text": [
      "                                        reactions  \\\n",
      "316_AT1     [5HOXINDACTO2OX, ALLOPOXDhep, PYDXDH]   \n",
      "79814_AT1                                 [AGMTm]   \n",
      "4126_AT1                            [B_MANNASEly]   \n",
      "26503_AT1           [ACNAMlt, IDOURtly, GLCURtly]   \n",
      "53630_AT1                                  [BCDO]   \n",
      "...                                           ...   \n",
      "81894_AT1                                [FE2utm]   \n",
      "158584_AT1                             [HMR_7756]   \n",
      "23491_AT1                              [HMR_8643]   \n",
      "221223_AT1                             [HMR_8643]   \n",
      "1066_AT1                               [HMR_8643]   \n",
      "\n",
      "                                 substrates                         products  \\\n",
      "316_AT1     [5hoxindact_c, allop_c, pydx_c]  [5hoxindoa_c, oxyp_c, 4pyrdx_c]   \n",
      "79814_AT1                           [agm_m]                 [ptrc_m, urea_m]   \n",
      "4126_AT1                             [mn_l]                 [acgam_l, man_l]   \n",
      "26503_AT1       [acnam_c, idour_c, glcur_c]      [acnam_l, idour_l, glcur_l]   \n",
      "53630_AT1                          [caro_c]                      [retinal_c]   \n",
      "...                                     ...                              ...   \n",
      "81894_AT1                                []                               []   \n",
      "158584_AT1                       [M00673_c]                          [pac_c]   \n",
      "23491_AT1                          [coke_c]                   [bz_c, egme_c]   \n",
      "221223_AT1                         [coke_c]                   [bz_c, egme_c]   \n",
      "1066_AT1                           [coke_c]                   [bz_c, egme_c]   \n",
      "\n",
      "           links  \n",
      "316_AT1       []  \n",
      "79814_AT1     []  \n",
      "4126_AT1      []  \n",
      "26503_AT1     []  \n",
      "53630_AT1     []  \n",
      "...          ...  \n",
      "81894_AT1     []  \n",
      "158584_AT1    []  \n",
      "23491_AT1     []  \n",
      "221223_AT1    []  \n",
      "1066_AT1      []  \n",
      "\n",
      "[102 rows x 4 columns]\n"
     ]
    }
   ],
   "source": [
    "# show genes having no links\n",
    "print(df.loc[df['links'].str.len() == 0])"
   ]
  },
  {
   "cell_type": "code",
   "execution_count": 21,
   "metadata": {},
   "outputs": [],
   "source": [
    "G = nx.from_pandas_edgelist(df=df1, source='index', target='links')"
   ]
  },
  {
   "cell_type": "code",
   "execution_count": 22,
   "metadata": {},
   "outputs": [],
   "source": [
    "# get subgraphs\n",
    "def connected_component_subgraphs(G):\n",
    "    for c in nx.connected_components(G):\n",
    "        yield G.subgraph(c)"
   ]
  },
  {
   "cell_type": "code",
   "execution_count": 23,
   "metadata": {},
   "outputs": [],
   "source": [
    "giant = max(connected_component_subgraphs(G), key=len)"
   ]
  },
  {
   "cell_type": "code",
   "execution_count": 24,
   "metadata": {},
   "outputs": [
    {
     "data": {
      "text/plain": [
       "2174"
      ]
     },
     "execution_count": 24,
     "metadata": {},
     "output_type": "execute_result"
    }
   ],
   "source": [
    "giant.number_of_nodes()"
   ]
  },
  {
   "cell_type": "markdown",
   "metadata": {},
   "source": [
    "## Laplacian and Eigen"
   ]
  },
  {
   "cell_type": "code",
   "execution_count": 25,
   "metadata": {},
   "outputs": [
    {
     "data": {
      "text/plain": [
       "matrix([[2078,   -1,   -1, ...,   -1,   -1,   -1],\n",
       "        [  -1,  127,    0, ...,    0,    0,    0],\n",
       "        [  -1,    0,   34, ...,    0,    0,    0],\n",
       "        ...,\n",
       "        [  -1,    0,    0, ...,   63,    0,    0],\n",
       "        [  -1,    0,    0, ...,    0,    4,    0],\n",
       "        [  -1,    0,    0, ...,    0,    0,   19]], dtype=int64)"
      ]
     },
     "execution_count": 25,
     "metadata": {},
     "output_type": "execute_result"
    }
   ],
   "source": [
    "# Laplacian Matrix\n",
    "L = nx.laplacian_matrix(giant, nodelist=sorted(giant.nodes())).astype(np.int64)\n",
    "L.todense()"
   ]
  },
  {
   "cell_type": "code",
   "execution_count": 26,
   "metadata": {},
   "outputs": [],
   "source": [
    "eig = np.linalg.eig(L.todense())"
   ]
  },
  {
   "cell_type": "markdown",
   "metadata": {},
   "source": [
    "## Plotting"
   ]
  },
  {
   "cell_type": "code",
   "execution_count": 27,
   "metadata": {},
   "outputs": [],
   "source": [
    "def draw_sub(k, eig, G, layout, ccmap, vmin, vmax):\n",
    "    i = np.argpartition(eig[0], k)[k]\n",
    "    v = eig[1].real[:, i].T.tolist()[0]\n",
    "    # node_color is the coefficient of eigenvectors \n",
    "    nx.draw(G, layout, node_size=100, node_color=v, edge_color=\"#cccccc\", edgecolors='#000000', cmap=ccmap, vmin=vmin, vmax=vmax)\n",
    "    plt.axis('off')\n",
    "    sm = plt.cm.ScalarMappable(cmap=ccmap, norm=plt.Normalize(vmin=vmin, vmax=vmax))\n",
    "    sm.set_array([])\n",
    "#     plt.colorbar(sm)\n",
    "#     plt.title('k = {}'.format(k))"
   ]
  },
  {
   "cell_type": "code",
   "execution_count": 28,
   "metadata": {},
   "outputs": [],
   "source": [
    "def change_scale(eig):\n",
    "    # smallest coefficient\n",
    "    vmin = np.amin(eig[1])\n",
    "    # largest coefficient\n",
    "    vmax = np.amax(eig[1])\n",
    "    if vmin*vmax < 0:\n",
    "        v = max(abs(vmin), abs(vmax))\n",
    "        vmin = -v\n",
    "        vmax = v\n",
    "    # if vmin and vmax have the same sign, the colorbar can't be symmetrical.\n",
    "    return vmin, vmax"
   ]
  },
  {
   "cell_type": "markdown",
   "metadata": {},
   "source": [
    "## Make Color Map"
   ]
  },
  {
   "cell_type": "code",
   "execution_count": 29,
   "metadata": {},
   "outputs": [],
   "source": [
    "from matplotlib import cm\n",
    "from matplotlib.colors import ListedColormap\n",
    "from matplotlib.colors import LinearSegmentedColormap\n",
    "winter = cm.get_cmap('winter', 128)\n",
    "autumn = cm.get_cmap('autumn_r', 128)\n",
    "\n",
    "newcolors = np.vstack((winter(np.linspace(0, 1, 128)),\n",
    "                       autumn(np.linspace(0, 1, 128))))\n",
    "ccmap = ListedColormap(newcolors, name='OrangeBlue')"
   ]
  },
  {
   "cell_type": "code",
   "execution_count": 30,
   "metadata": {},
   "outputs": [],
   "source": [
    "plt.rc('figure', figsize=(30, 30))\n",
    "K = 5/np.sqrt(giant.order())\n",
    "layout = nx.spring_layout(G, k=K, seed=3)"
   ]
  },
  {
   "cell_type": "markdown",
   "metadata": {},
   "source": [
    "## Plot"
   ]
  },
  {
   "cell_type": "code",
   "execution_count": 31,
   "metadata": {
    "scrolled": true
   },
   "outputs": [],
   "source": [
    "# n0 = 6\n",
    "# n_sub = n0 ** 2\n",
    "# base = len(eig[0]) // (n_sub - 2)\n",
    "# k_lst0 = [0, 1]\n",
    "# k_lst1 = [x * base for x in range(1, n_sub-2)]\n",
    "# k_lst2 = [len(eig[0])-1]\n",
    "# k_lst = k_lst0 + k_lst1 + k_lst2\n",
    "# vmin, vmax = change_scale(eig)\n",
    "# for i, k in enumerate(k_lst):\n",
    "# #     plt.subplot(n0, n0, i+1)\n",
    "#     draw_sub(k, eig, giant, layout, ccmap, vmin, vmax)\n",
    "#     plt.savefig('../output/{}.png'.format(k))\n",
    "# # plt.tight_layout()\n",
    "# # plt.show()"
   ]
  },
  {
   "cell_type": "markdown",
   "metadata": {},
   "source": [
    "## Size vs index"
   ]
  },
  {
   "cell_type": "code",
   "execution_count": 32,
   "metadata": {},
   "outputs": [
    {
     "data": {
      "text/plain": [
       "{'0': 436996,\n",
       " '1': 449278,\n",
       " '63': 451756,\n",
       " '126': 447630,\n",
       " '189': 457603,\n",
       " '252': 451827,\n",
       " '315': 460036,\n",
       " '378': 460528,\n",
       " '441': 461183,\n",
       " '504': 461154,\n",
       " '567': 462572,\n",
       " '630': 463148,\n",
       " '693': 461291,\n",
       " '756': 461855,\n",
       " '819': 463241,\n",
       " '882': 463861,\n",
       " '945': 463772,\n",
       " '1008': 464324,\n",
       " '1071': 466451,\n",
       " '1134': 466829,\n",
       " '1197': 465156,\n",
       " '1260': 466514,\n",
       " '1323': 465883,\n",
       " '1386': 466006,\n",
       " '1449': 466627,\n",
       " '1512': 466376,\n",
       " '1575': 467032,\n",
       " '1638': 469166,\n",
       " '1701': 469420,\n",
       " '1764': 469697,\n",
       " '1827': 468881,\n",
       " '1890': 468955,\n",
       " '1953': 470592,\n",
       " '2016': 470189,\n",
       " '2079': 470699,\n",
       " '2173': 461440}"
      ]
     },
     "execution_count": 32,
     "metadata": {},
     "output_type": "execute_result"
    }
   ],
   "source": [
    "import os\n",
    "import collections\n",
    "from PIL import Image\n",
    "f_name = os.listdir('../output/')\n",
    "f_name = [str(pre)+'.png' for pre in sorted([int(os.path.splitext(f)[0]) for f in f_name if '.png' in f])]\n",
    "size_dict = dict()\n",
    "for f in f_name:\n",
    "    im = Image.open(\"../output/\"+f)\n",
    "    rgb_im = im.convert('RGB')\n",
    "    name = os.path.splitext(f)[0]\n",
    "    rgb_im.save(\"../output/\"+name+'.jpg')\n",
    "    size_dict[name] = os.path.getsize('../output/{}'.format(name+'.jpg'))\n",
    "size_dict"
   ]
  },
  {
   "cell_type": "code",
   "execution_count": 33,
   "metadata": {},
   "outputs": [
    {
     "data": {
      "text/plain": [
       "33703"
      ]
     },
     "execution_count": 33,
     "metadata": {},
     "output_type": "execute_result"
    }
   ],
   "source": [
    "np.max(list(size_dict.values())) - np.min(list(size_dict.values()))"
   ]
  },
  {
   "cell_type": "code",
   "execution_count": 34,
   "metadata": {},
   "outputs": [
    {
     "data": {
      "text/plain": [
       "[0.0,\n",
       " 0.00045998160073597056,\n",
       " 0.028978840846366146,\n",
       " 0.05795768169273229,\n",
       " 0.08693652253909843,\n",
       " 0.11591536338546458,\n",
       " 0.14489420423183072,\n",
       " 0.17387304507819687,\n",
       " 0.20285188592456302,\n",
       " 0.23183072677092917,\n",
       " 0.2608095676172953,\n",
       " 0.28978840846366144,\n",
       " 0.3187672493100276,\n",
       " 0.34774609015639374,\n",
       " 0.3767249310027599,\n",
       " 0.40570377184912604,\n",
       " 0.4346826126954922,\n",
       " 0.46366145354185834,\n",
       " 0.4926402943882245,\n",
       " 0.5216191352345906,\n",
       " 0.5505979760809567,\n",
       " 0.5795768169273229,\n",
       " 0.608555657773689,\n",
       " 0.6375344986200552,\n",
       " 0.6665133394664213,\n",
       " 0.6954921803127875,\n",
       " 0.7244710211591536,\n",
       " 0.7534498620055198,\n",
       " 0.7824287028518859,\n",
       " 0.8114075436982521,\n",
       " 0.8403863845446182,\n",
       " 0.8693652253909844,\n",
       " 0.8983440662373505,\n",
       " 0.9273229070837167,\n",
       " 0.9563017479300828,\n",
       " 0.999540018399264]"
      ]
     },
     "execution_count": 34,
     "metadata": {},
     "output_type": "execute_result"
    }
   ],
   "source": [
    "index_lst = [int(i)/len(eig[1]) for i in list(size_dict.keys())]\n",
    "index_lst"
   ]
  },
  {
   "cell_type": "code",
   "execution_count": 35,
   "metadata": {},
   "outputs": [
    {
     "data": {
      "text/plain": [
       "[0.0,\n",
       " 0.36441859775094204,\n",
       " 0.4379432098032816,\n",
       " 0.31552087351274366,\n",
       " 0.6114292496216954,\n",
       " 0.44004984719461177,\n",
       " 0.68361866896122,\n",
       " 0.6982167759546628,\n",
       " 0.7176512476634127,\n",
       " 0.7167907901373765,\n",
       " 0.7588641960656322,\n",
       " 0.7759546627896626,\n",
       " 0.7208557101741685,\n",
       " 0.737590125508115,\n",
       " 0.7787140610628134,\n",
       " 0.7971100495504851,\n",
       " 0.7944693350740291,\n",
       " 0.8108476990178916,\n",
       " 0.873957807910275,\n",
       " 0.8851734266979201,\n",
       " 0.8355339287303801,\n",
       " 0.8758270777082159,\n",
       " 0.8571047087796339,\n",
       " 0.8607542355279946,\n",
       " 0.87917989496484,\n",
       " 0.8717324867222502,\n",
       " 0.8911966293801739,\n",
       " 0.954514434916773,\n",
       " 0.9620508560068837,\n",
       " 0.9702697089279886,\n",
       " 0.9460582144022788,\n",
       " 0.9482538646411298,\n",
       " 0.9968252084384179,\n",
       " 0.9848678159214314,\n",
       " 1.0,\n",
       " 0.7252766816010444]"
      ]
     },
     "execution_count": 35,
     "metadata": {},
     "output_type": "execute_result"
    }
   ],
   "source": [
    "size_lst = list(size_dict.values())\n",
    "s_lst = [s - min(size_lst) for s in size_lst]\n",
    "s_lst = [s / max(s_lst) for s in s_lst]\n",
    "s_lst"
   ]
  },
  {
   "cell_type": "code",
   "execution_count": 37,
   "metadata": {
    "scrolled": true
   },
   "outputs": [
    {
     "data": {
      "image/png": "[encoded data removed]",
      "text/plain": [
       "<Figure size 432x432 with 1 Axes>"
      ]
     },
     "metadata": {
      "needs_background": "light"
     },
     "output_type": "display_data"
    }
   ],
   "source": [
    "plt.rc('figure', figsize=(6, 6))\n",
    "plt.plot(index_lst, s_lst)\n",
    "plt.xlabel('Index')\n",
    "plt.ylabel('Size')\n",
    "plt.savefig('../images/recon3d-smoothness.png')"
   ]
  },
  {
   "cell_type": "code",
   "execution_count": null,
   "metadata": {},
   "outputs": [],
   "source": []
  }
 ],
 "metadata": {
  "kernelspec": {
   "display_name": "Python 3",
   "language": "python",
   "name": "python3"
  },
  "language_info": {
   "codemirror_mode": {
    "name": "ipython",
    "version": 3
   },
   "file_extension": ".py",
   "mimetype": "text/x-python",
   "name": "python",
   "nbconvert_exporter": "python",
   "pygments_lexer": "ipython3",
   "version": "3.7.3"
  }
 },
 "nbformat": 4,
 "nbformat_minor": 2
}
