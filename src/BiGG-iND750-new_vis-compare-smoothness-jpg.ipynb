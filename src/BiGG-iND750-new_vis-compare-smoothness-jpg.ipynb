{
 "cells": [
  {
   "cell_type": "code",
   "execution_count": 1,
   "metadata": {},
   "outputs": [],
   "source": [
    "# Specification\n",
    "# https://github.com/SBRG/bigg_models/wiki/BiGG-Models-ID-Specification-and-Guidelines"
   ]
  },
  {
   "cell_type": "code",
   "execution_count": 2,
   "metadata": {},
   "outputs": [],
   "source": [
    "import numpy as np\n",
    "import pandas as pd\n",
    "import matplotlib.pyplot as plt\n",
    "import networkx as nx\n",
    "import json"
   ]
  },
  {
   "cell_type": "code",
   "execution_count": 3,
   "metadata": {},
   "outputs": [],
   "source": [
    "with open('../data/iND750.json', 'r') as file:\n",
    "    models = json.loads(file.read())"
   ]
  },
  {
   "cell_type": "markdown",
   "metadata": {},
   "source": [
    "## Data Inspection"
   ]
  },
  {
   "cell_type": "code",
   "execution_count": 4,
   "metadata": {},
   "outputs": [
    {
     "data": {
      "text/plain": [
       "dict"
      ]
     },
     "execution_count": 4,
     "metadata": {},
     "output_type": "execute_result"
    }
   ],
   "source": [
    "type(models)"
   ]
  },
  {
   "cell_type": "code",
   "execution_count": 5,
   "metadata": {},
   "outputs": [
    {
     "data": {
      "text/plain": [
       "6"
      ]
     },
     "execution_count": 5,
     "metadata": {},
     "output_type": "execute_result"
    }
   ],
   "source": [
    "len(models)"
   ]
  },
  {
   "cell_type": "code",
   "execution_count": 6,
   "metadata": {},
   "outputs": [
    {
     "data": {
      "text/plain": [
       "dict_keys(['metabolites', 'reactions', 'genes', 'id', 'compartments', 'version'])"
      ]
     },
     "execution_count": 6,
     "metadata": {},
     "output_type": "execute_result"
    }
   ],
   "source": [
    "models.keys()"
   ]
  },
  {
   "cell_type": "code",
   "execution_count": 7,
   "metadata": {},
   "outputs": [
    {
     "data": {
      "text/plain": [
       "'iND750'"
      ]
     },
     "execution_count": 7,
     "metadata": {},
     "output_type": "execute_result"
    }
   ],
   "source": [
    "models['id']"
   ]
  },
  {
   "cell_type": "code",
   "execution_count": 8,
   "metadata": {},
   "outputs": [
    {
     "data": {
      "text/plain": [
       "'1'"
      ]
     },
     "execution_count": 8,
     "metadata": {},
     "output_type": "execute_result"
    }
   ],
   "source": [
    "models['version']"
   ]
  },
  {
   "cell_type": "code",
   "execution_count": 9,
   "metadata": {},
   "outputs": [
    {
     "data": {
      "text/plain": [
       "{'c': 'cytosol',\n",
       " 'e': 'extracellular space',\n",
       " 'g': 'golgi apparatus',\n",
       " 'm': 'mitochondria',\n",
       " 'n': 'nucleus',\n",
       " 'r': 'endoplasmic reticulum',\n",
       " 'v': 'vacuole',\n",
       " 'x': 'peroxisome/glyoxysome'}"
      ]
     },
     "execution_count": 9,
     "metadata": {},
     "output_type": "execute_result"
    }
   ],
   "source": [
    "models['compartments']"
   ]
  },
  {
   "cell_type": "code",
   "execution_count": 10,
   "metadata": {},
   "outputs": [
    {
     "data": {
      "text/plain": [
       "[{'id': 'EX_met__L_e',\n",
       "  'name': 'L-Methionine exchange',\n",
       "  'metabolites': {'met__L_e': -1.0},\n",
       "  'lower_bound': 0.0,\n",
       "  'upper_bound': 999999.0,\n",
       "  'gene_reaction_rule': '',\n",
       "  'subsystem': 'Extracellular exchange',\n",
       "  'notes': {'original_bigg_ids': ['EX_met_L_LPAREN_e_RPAREN_']},\n",
       "  'annotation': {'bigg.reaction': ['EX_met__L_e'],\n",
       "   'metanetx.reaction': ['MNXR101493'],\n",
       "   'sabiork': ['13469', '13461'],\n",
       "   'sbo': 'SBO:0000627',\n",
       "   'seed.reaction': ['rxn08920', 'rxn10976']}},\n",
       " {'id': 'EX_mmet_e',\n",
       "  'name': 'S-Methyl-L-methionine exchange',\n",
       "  'metabolites': {'mmet_e': -1.0},\n",
       "  'lower_bound': 0.0,\n",
       "  'upper_bound': 999999.0,\n",
       "  'gene_reaction_rule': '',\n",
       "  'subsystem': 'Extracellular exchange',\n",
       "  'notes': {'original_bigg_ids': ['EX_mmet_LPAREN_e_RPAREN_']},\n",
       "  'annotation': {'bigg.reaction': ['EX_mmet_e'],\n",
       "   'biocyc': ['META:TRANS-RXN0-486'],\n",
       "   'metanetx.reaction': ['MNXR101659'],\n",
       "   'sbo': 'SBO:0000627',\n",
       "   'seed.reaction': ['rxn08945']}}]"
      ]
     },
     "execution_count": 10,
     "metadata": {},
     "output_type": "execute_result"
    }
   ],
   "source": [
    "models['reactions'][:2]"
   ]
  },
  {
   "cell_type": "code",
   "execution_count": 11,
   "metadata": {},
   "outputs": [
    {
     "data": {
      "text/plain": [
       "[{'id': 'ala__L_e',\n",
       "  'name': 'L-Alanine',\n",
       "  'compartment': 'e',\n",
       "  'formula': 'C3H7NO2',\n",
       "  'notes': {'original_bigg_ids': ['ala_DASH_L_e']},\n",
       "  'annotation': {'bigg.metabolite': ['ala__L'],\n",
       "   'biocyc': ['META:L-ALPHA-ALANINE'],\n",
       "   'chebi': ['CHEBI:21216',\n",
       "    'CHEBI:32440',\n",
       "    'CHEBI:2539',\n",
       "    'CHEBI:46308',\n",
       "    'CHEBI:40735',\n",
       "    'CHEBI:16977',\n",
       "    'CHEBI:22277',\n",
       "    'CHEBI:32439',\n",
       "    'CHEBI:57972',\n",
       "    'CHEBI:6171',\n",
       "    'CHEBI:16449',\n",
       "    'CHEBI:32431',\n",
       "    'CHEBI:32432',\n",
       "    'CHEBI:66916',\n",
       "    'CHEBI:40734',\n",
       "    'CHEBI:13069',\n",
       "    'CHEBI:76050',\n",
       "    'CHEBI:13748'],\n",
       "   'envipath': ['650babc9-9d68-4b73-9332-11972ca26f7b/compound/d80739c7-acbe-4c00-8ea2-e3d19a191be2',\n",
       "    '650babc9-9d68-4b73-9332-11972ca26f7b/compound/1aad160f-1c5e-48e0-9473-6305321b31ed'],\n",
       "   'hmdb': ['HMDB00161', 'HMDB62251'],\n",
       "   'inchi_key': ['QNAYBMKLOCPYGJ-REOHCLBHSA-N'],\n",
       "   'kegg.compound': ['C01401', 'C00041'],\n",
       "   'kegg.drug': ['D00012'],\n",
       "   'metanetx.chemical': ['MNXM32'],\n",
       "   'reactome.compound': ['389664', '352036', '29432', '379697'],\n",
       "   'sabiork': ['2280', '67'],\n",
       "   'sbo': 'SBO:0000247',\n",
       "   'seed.compound': ['cpd00035', 'cpd01003']}},\n",
       " {'id': 'alltn_e',\n",
       "  'name': 'Allantoin',\n",
       "  'compartment': 'e',\n",
       "  'formula': 'C4H6N4O3',\n",
       "  'notes': {'original_bigg_ids': ['alltn_e']},\n",
       "  'annotation': {'bigg.metabolite': ['alltn'],\n",
       "   'biocyc': ['META:ALLANTOIN'],\n",
       "   'chebi': ['CHEBI:15676',\n",
       "    'CHEBI:74345',\n",
       "    'CHEBI:2594',\n",
       "    'CHEBI:13761',\n",
       "    'CHEBI:22354'],\n",
       "   'hmdb': ['HMDB00462'],\n",
       "   'inchi_key': ['POJWUDADGALRAB-UHFFFAOYSA-N'],\n",
       "   'kegg.compound': ['C01551'],\n",
       "   'kegg.drug': ['D00121'],\n",
       "   'metanetx.chemical': ['MNXM612'],\n",
       "   'sabiork': ['5655'],\n",
       "   'sbo': 'SBO:0000247',\n",
       "   'seed.compound': ['cpd01092']}}]"
      ]
     },
     "execution_count": 11,
     "metadata": {},
     "output_type": "execute_result"
    }
   ],
   "source": [
    "models['metabolites'][:2]"
   ]
  },
  {
   "cell_type": "markdown",
   "metadata": {},
   "source": [
    "## 'gene reaction rule' in 'reactions'"
   ]
  },
  {
   "cell_type": "code",
   "execution_count": 12,
   "metadata": {},
   "outputs": [
    {
     "name": "stdout",
     "output_type": "stream",
     "text": [
      "\n",
      "\n",
      "\n",
      "\n",
      "\n",
      "\n",
      "\n",
      "\n",
      "\n",
      "\n",
      "\n",
      "\n",
      "\n",
      "\n",
      "\n",
      "\n",
      "\n",
      "\n",
      "\n",
      "\n",
      "\n",
      "\n",
      "\n",
      "\n",
      "\n",
      "\n",
      "\n",
      "\n",
      "\n",
      "\n",
      "\n",
      "\n",
      "\n",
      "\n",
      "\n",
      "\n",
      "\n",
      "\n",
      "\n",
      "\n",
      "\n",
      "\n",
      "\n",
      "\n",
      "\n",
      "\n",
      "\n",
      "\n",
      "\n",
      "YKL182W and YPL231W\n",
      "\n",
      "\n",
      "YKL182W and YPL231W\n",
      "\n",
      "YKL188C and YPL147W\n",
      "\n",
      "YKL182W and YPL231W\n",
      "\n",
      "YKL188C and YPL147W\n",
      "\n"
     ]
    }
   ],
   "source": [
    "for i, reaction in enumerate(models['reactions']):\n",
    "    if i < 60:\n",
    "        print(reaction['gene_reaction_rule'])\n",
    "    else:\n",
    "        break\n",
    "        "
   ]
  },
  {
   "cell_type": "markdown",
   "metadata": {},
   "source": [
    "From above, we see that some reactions are ruled by some genes, and some reactions are not ruled by any gene."
   ]
  },
  {
   "cell_type": "markdown",
   "metadata": {},
   "source": [
    "## look at a spefic reaction and compare data to its web infomation"
   ]
  },
  {
   "cell_type": "code",
   "execution_count": 13,
   "metadata": {},
   "outputs": [
    {
     "name": "stdout",
     "output_type": "stream",
     "text": [
      "{'id': '13BGH', 'name': 'Endo 1 3 beta glucan glucohydrase', 'metabolites': {'13BDglcn_c': -1.0, 'glc__D_c': 1.0, 'h2o_c': -1.0}, 'lower_bound': 0.0, 'upper_bound': 999999.0, 'gene_reaction_rule': 'YGR282C', 'subsystem': 'Starch and Sucrose Metabolism', 'notes': {'original_bigg_ids': ['13BGH']}, 'annotation': {'bigg.reaction': ['13BGH'], 'metanetx.reaction': ['MNXR94686'], 'sbo': 'SBO:0000176'}}\n"
     ]
    }
   ],
   "source": [
    "# http://bigg.ucsd.edu/models/iND750/reactions/13BGH\n",
    "for reaction in models['reactions']:\n",
    "    if reaction['id'] == '13BGH':\n",
    "        print(reaction)"
   ]
  },
  {
   "cell_type": "markdown",
   "metadata": {},
   "source": [
    "The useful attribute here is *'metabolites'*, "
   ]
  },
  {
   "cell_type": "code",
   "execution_count": 14,
   "metadata": {},
   "outputs": [
    {
     "name": "stdout",
     "output_type": "stream",
     "text": [
      "{'id': 'YGR282C', 'name': 'BGL2', 'notes': {'original_bigg_ids': ['YGR282C']}, 'annotation': {'ncbigene': ['853199'], 'refseq_locus_tag': ['YGR282C'], 'refseq_name': ['BGL2'], 'refseq_synonym': ['SCW9'], 'sbo': 'SBO:0000243', 'sgd': ['S000003514']}}\n"
     ]
    }
   ],
   "source": [
    "for gene in models['genes']:\n",
    "    if gene['id'] == 'YGR282C':\n",
    "        print(gene)"
   ]
  },
  {
   "cell_type": "markdown",
   "metadata": {},
   "source": [
    "## Data Preparation"
   ]
  },
  {
   "cell_type": "code",
   "execution_count": 15,
   "metadata": {},
   "outputs": [],
   "source": [
    "# step 1: find one gene\n",
    "# step 2: find the reactions which are ruled by this gene\n",
    "# step 3: find the substrate (< 0) and products (> 0) of one of these reactions. Repeat for all reactions ruled by this gene.\n",
    "# step 4: repeat above steps for all genes -- every gene has a list of substrates and products.\n",
    "# step 5: if a product of gene A is a substrate of gene B, then gene A and gene B has a connection"
   ]
  },
  {
   "cell_type": "code",
   "execution_count": 16,
   "metadata": {},
   "outputs": [],
   "source": [
    "genes = {}\n",
    "inorganics = []\n",
    "for gene in models['genes']:\n",
    "    genes[gene['id']] = {}\n",
    "    genes[gene['id']]['reactions'] = []\n",
    "    genes[gene['id']]['substrates'] = []\n",
    "    genes[gene['id']]['products'] = []\n",
    "    for reaction in models['reactions']:\n",
    "        if gene['id'] in reaction['gene_reaction_rule'] and gene['id'] not in genes[gene['id']]['reactions']:\n",
    "            genes[gene['id']]['reactions'].append(reaction['id'])\n",
    "            for metabolite, v in reaction['metabolites'].items():\n",
    "                for m in models['metabolites']:\n",
    "                    if m['id'] == metabolite:\n",
    "                        # exclude inorganic metabolites\n",
    "                        if 'C' in m['formula'] and m['formula'] not in ['CO2', 'CO', 'C']:\n",
    "                            if v > 0 and metabolite not in genes[gene['id']]['products']:\n",
    "                                genes[gene['id']]['products'].append(metabolite)\n",
    "                            if v < 0 and metabolite not in genes[gene['id']]['substrates']:\n",
    "                                genes[gene['id']]['substrates'].append(metabolite)\n",
    "                        elif metabolite not in inorganics:\n",
    "                            inorganics.append(metabolite)\n",
    "                        else:\n",
    "                            break\n",
    "#                     if v == 1 and metabolite not in genes[gene['id']]['products']:\n",
    "#                         genes[gene['id']]['products'].append(metabolite)\n",
    "#                     if v == -1 and metabolite not in genes[gene['id']]['substrates']:\n",
    "#                         genes[gene['id']]['substrates'].append(metabolite)\n",
    "                            \n",
    "for k0, v0 in genes.items():\n",
    "    v0['links'] = []\n",
    "    for product in v0['products']:\n",
    "        for k1, v1 in genes.items():\n",
    "            if k1 != k0 and product in v1['substrates']:\n",
    "                v0['links'].append(k1)\n",
    "                "
   ]
  },
  {
   "cell_type": "code",
   "execution_count": 17,
   "metadata": {},
   "outputs": [
    {
     "data": {
      "text/plain": [
       "['co2_m',\n",
       " 'h2o_m',\n",
       " 'h_m',\n",
       " 'o2_m',\n",
       " 'h2o_c',\n",
       " 'h_c',\n",
       " 'co2_c',\n",
       " 'h2o_x',\n",
       " 'h_x',\n",
       " 'pi_x',\n",
       " 'h2o_e',\n",
       " 'pi_e',\n",
       " 'o2_c',\n",
       " 'pi_m',\n",
       " 'ppi_c',\n",
       " 'nh4_c',\n",
       " 'ppi_m',\n",
       " 'ppi_x',\n",
       " 'h_e',\n",
       " 'pi_c',\n",
       " 'h2o2_x',\n",
       " 'o2_x',\n",
       " 'trnaglu_c',\n",
       " 'trnaglu_m',\n",
       " 'trnaarg_c',\n",
       " 'trnaarg_m',\n",
       " 'trnagly_c',\n",
       " 'nh4_e',\n",
       " 'h2o2_c',\n",
       " 'h2s_c',\n",
       " 'h_n',\n",
       " 'pi_n',\n",
       " 'h2o_n',\n",
       " 'nh4_x',\n",
       " 'trnacys_c',\n",
       " 'trnaasp_c',\n",
       " 'trnaasp_m',\n",
       " 'so4_c',\n",
       " 'trnahis_c',\n",
       " 'trnahis_m',\n",
       " 'nh4_m',\n",
       " 'lpro_m',\n",
       " 'dhlpro_m',\n",
       " 'h_r',\n",
       " 'trnaala_c',\n",
       " 'co2_x',\n",
       " 'h2o_g',\n",
       " 'h_g',\n",
       " 'pi_g',\n",
       " 'h2o_v',\n",
       " 'h_v',\n",
       " 'pi_v',\n",
       " 'trnaile_c',\n",
       " 'trnaile_m',\n",
       " 's_c',\n",
       " 'trnaleu_c',\n",
       " 'fe2_m',\n",
       " 'trnaleu_m',\n",
       " 'trnalys_c',\n",
       " 'trnalys_m',\n",
       " 'trnamet_c',\n",
       " 'trnamet_m',\n",
       " 'trnaphe_c',\n",
       " 'trnaphe_m',\n",
       " 'oh1_c',\n",
       " 'oh1_m',\n",
       " 'na1_c',\n",
       " 'na1_e',\n",
       " 'trnagln_c',\n",
       " 'trnapro_c',\n",
       " 'co2_g',\n",
       " 'co2_v',\n",
       " 'trdox_c',\n",
       " 'trdrd_c',\n",
       " 'trdox_n',\n",
       " 'trdrd_n',\n",
       " 'so3_c',\n",
       " 'trnaser_c',\n",
       " 'so4_e',\n",
       " 'h2o_r',\n",
       " 'o2_r',\n",
       " 'trnathr_c',\n",
       " 'trnathr_m',\n",
       " 'trdox_m',\n",
       " 'trdrd_m',\n",
       " 'trnatrp_c',\n",
       " 'trnatrp_m',\n",
       " 'trnatyr_c',\n",
       " 'trnatyr_m',\n",
       " 'trnaval_c',\n",
       " 'trnaval_m']"
      ]
     },
     "execution_count": 17,
     "metadata": {},
     "output_type": "execute_result"
    }
   ],
   "source": [
    "inorganics"
   ]
  },
  {
   "cell_type": "code",
   "execution_count": 18,
   "metadata": {
    "scrolled": true
   },
   "outputs": [
    {
     "data": {
      "text/html": [
       "<div>\n",
       "<style scoped>\n",
       "    .dataframe tbody tr th:only-of-type {\n",
       "        vertical-align: middle;\n",
       "    }\n",
       "\n",
       "    .dataframe tbody tr th {\n",
       "        vertical-align: top;\n",
       "    }\n",
       "\n",
       "    .dataframe thead th {\n",
       "        text-align: right;\n",
       "    }\n",
       "</style>\n",
       "<table border=\"1\" class=\"dataframe\">\n",
       "  <thead>\n",
       "    <tr style=\"text-align: right;\">\n",
       "      <th></th>\n",
       "      <th>reactions</th>\n",
       "      <th>substrates</th>\n",
       "      <th>products</th>\n",
       "      <th>links</th>\n",
       "    </tr>\n",
       "  </thead>\n",
       "  <tbody>\n",
       "    <tr>\n",
       "      <th>YER061C</th>\n",
       "      <td>[ACOATAm, FAS100ACPm, FAS120ACPm, FAS140ACPm, ...</td>\n",
       "      <td>[ACP_m, accoa_m, malACP_m, nadph_m, ocACP_m, d...</td>\n",
       "      <td>[acACP_m, coa_m, ACP_m, dcaACP_m, nadp_m, ddca...</td>\n",
       "      <td>[YOR221C, YKL055C, YKL192C, YPL148C, YAR035W, ...</td>\n",
       "    </tr>\n",
       "    <tr>\n",
       "      <th>YLR304C</th>\n",
       "      <td>[ACONT, ACONTm]</td>\n",
       "      <td>[cit_c, cit_m]</td>\n",
       "      <td>[icit_c, icit_m]</td>\n",
       "      <td>[YLR174W, YER065C, YBR291C, YOR136W, YNL037C, ...</td>\n",
       "    </tr>\n",
       "    <tr>\n",
       "      <th>YPL231W</th>\n",
       "      <td>[FA120ACPHi, FA140ACPHi, FA141ACPHi, FA160ACPH...</td>\n",
       "      <td>[ddcaACP_c, myrsACP_c, tdeACP_c, palmACP_c, hd...</td>\n",
       "      <td>[ACP_c, ddca_c, ttdca_c, ttdcea_c, hdca_c, hdc...</td>\n",
       "      <td>[YKL182W, YKL182W, YNR016C, YGR037C, YKL182W, ...</td>\n",
       "    </tr>\n",
       "    <tr>\n",
       "      <th>YBR023C</th>\n",
       "      <td>[CHTNS]</td>\n",
       "      <td>[udpacgal_c]</td>\n",
       "      <td>[chitin_c, udp_c]</td>\n",
       "      <td>[YLR307W, YLR308W, YKL067W, YER070W, YJL026W]</td>\n",
       "    </tr>\n",
       "    <tr>\n",
       "      <th>YJL200C</th>\n",
       "      <td>[ACONTm]</td>\n",
       "      <td>[cit_m]</td>\n",
       "      <td>[icit_m]</td>\n",
       "      <td>[YBR291C, YOR136W, YNL037C, YDL066W]</td>\n",
       "    </tr>\n",
       "    <tr>\n",
       "      <th>...</th>\n",
       "      <td>...</td>\n",
       "      <td>...</td>\n",
       "      <td>...</td>\n",
       "      <td>...</td>\n",
       "    </tr>\n",
       "    <tr>\n",
       "      <th>YDR322C_A</th>\n",
       "      <td>[ATPS3m]</td>\n",
       "      <td>[adp_m]</td>\n",
       "      <td>[atp_m]</td>\n",
       "      <td>[YER069W, YAL054C, YER170W, YOL033W, YHR091C, ...</td>\n",
       "    </tr>\n",
       "    <tr>\n",
       "      <th>YOL077W_A</th>\n",
       "      <td>[ATPS3m]</td>\n",
       "      <td>[adp_m]</td>\n",
       "      <td>[atp_m]</td>\n",
       "      <td>[YER069W, YAL054C, YER170W, YOL033W, YHR091C, ...</td>\n",
       "    </tr>\n",
       "    <tr>\n",
       "      <th>YML081C_A</th>\n",
       "      <td>[ATPS3m]</td>\n",
       "      <td>[adp_m]</td>\n",
       "      <td>[atp_m]</td>\n",
       "      <td>[YER069W, YAL054C, YER170W, YOL033W, YHR091C, ...</td>\n",
       "    </tr>\n",
       "    <tr>\n",
       "      <th>YHR001W_A</th>\n",
       "      <td>[CYOR_u6m]</td>\n",
       "      <td>[ficytc_m, q6h2_m]</td>\n",
       "      <td>[focytc_m, q6_m]</td>\n",
       "      <td>[YHR051W, YMR256C, Q0250, YGL187C, YDL067C, YG...</td>\n",
       "    </tr>\n",
       "    <tr>\n",
       "      <th>YCR073W_A</th>\n",
       "      <td>[PGL]</td>\n",
       "      <td>[6pgl_c]</td>\n",
       "      <td>[6pgc_c]</td>\n",
       "      <td>[YGR256W, YHR183W]</td>\n",
       "    </tr>\n",
       "  </tbody>\n",
       "</table>\n",
       "<p>750 rows × 4 columns</p>\n",
       "</div>"
      ],
      "text/plain": [
       "                                                   reactions  \\\n",
       "YER061C    [ACOATAm, FAS100ACPm, FAS120ACPm, FAS140ACPm, ...   \n",
       "YLR304C                                      [ACONT, ACONTm]   \n",
       "YPL231W    [FA120ACPHi, FA140ACPHi, FA141ACPHi, FA160ACPH...   \n",
       "YBR023C                                              [CHTNS]   \n",
       "YJL200C                                             [ACONTm]   \n",
       "...                                                      ...   \n",
       "YDR322C_A                                           [ATPS3m]   \n",
       "YOL077W_A                                           [ATPS3m]   \n",
       "YML081C_A                                           [ATPS3m]   \n",
       "YHR001W_A                                         [CYOR_u6m]   \n",
       "YCR073W_A                                              [PGL]   \n",
       "\n",
       "                                                  substrates  \\\n",
       "YER061C    [ACP_m, accoa_m, malACP_m, nadph_m, ocACP_m, d...   \n",
       "YLR304C                                       [cit_c, cit_m]   \n",
       "YPL231W    [ddcaACP_c, myrsACP_c, tdeACP_c, palmACP_c, hd...   \n",
       "YBR023C                                         [udpacgal_c]   \n",
       "YJL200C                                              [cit_m]   \n",
       "...                                                      ...   \n",
       "YDR322C_A                                            [adp_m]   \n",
       "YOL077W_A                                            [adp_m]   \n",
       "YML081C_A                                            [adp_m]   \n",
       "YHR001W_A                                 [ficytc_m, q6h2_m]   \n",
       "YCR073W_A                                           [6pgl_c]   \n",
       "\n",
       "                                                    products  \\\n",
       "YER061C    [acACP_m, coa_m, ACP_m, dcaACP_m, nadp_m, ddca...   \n",
       "YLR304C                                     [icit_c, icit_m]   \n",
       "YPL231W    [ACP_c, ddca_c, ttdca_c, ttdcea_c, hdca_c, hdc...   \n",
       "YBR023C                                    [chitin_c, udp_c]   \n",
       "YJL200C                                             [icit_m]   \n",
       "...                                                      ...   \n",
       "YDR322C_A                                            [atp_m]   \n",
       "YOL077W_A                                            [atp_m]   \n",
       "YML081C_A                                            [atp_m]   \n",
       "YHR001W_A                                   [focytc_m, q6_m]   \n",
       "YCR073W_A                                           [6pgc_c]   \n",
       "\n",
       "                                                       links  \n",
       "YER061C    [YOR221C, YKL055C, YKL192C, YPL148C, YAR035W, ...  \n",
       "YLR304C    [YLR174W, YER065C, YBR291C, YOR136W, YNL037C, ...  \n",
       "YPL231W    [YKL182W, YKL182W, YNR016C, YGR037C, YKL182W, ...  \n",
       "YBR023C        [YLR307W, YLR308W, YKL067W, YER070W, YJL026W]  \n",
       "YJL200C                 [YBR291C, YOR136W, YNL037C, YDL066W]  \n",
       "...                                                      ...  \n",
       "YDR322C_A  [YER069W, YAL054C, YER170W, YOL033W, YHR091C, ...  \n",
       "YOL077W_A  [YER069W, YAL054C, YER170W, YOL033W, YHR091C, ...  \n",
       "YML081C_A  [YER069W, YAL054C, YER170W, YOL033W, YHR091C, ...  \n",
       "YHR001W_A  [YHR051W, YMR256C, Q0250, YGL187C, YDL067C, YG...  \n",
       "YCR073W_A                                 [YGR256W, YHR183W]  \n",
       "\n",
       "[750 rows x 4 columns]"
      ]
     },
     "execution_count": 18,
     "metadata": {},
     "output_type": "execute_result"
    }
   ],
   "source": [
    "df = pd.DataFrame.from_dict(genes).T\n",
    "df"
   ]
  },
  {
   "cell_type": "code",
   "execution_count": 19,
   "metadata": {},
   "outputs": [
    {
     "data": {
      "text/plain": [
       "False"
      ]
     },
     "execution_count": 19,
     "metadata": {},
     "output_type": "execute_result"
    }
   ],
   "source": [
    "True in df.index.str.contains('YDL157C')"
   ]
  },
  {
   "cell_type": "code",
   "execution_count": 20,
   "metadata": {},
   "outputs": [
    {
     "data": {
      "text/html": [
       "<div>\n",
       "<style scoped>\n",
       "    .dataframe tbody tr th:only-of-type {\n",
       "        vertical-align: middle;\n",
       "    }\n",
       "\n",
       "    .dataframe tbody tr th {\n",
       "        vertical-align: top;\n",
       "    }\n",
       "\n",
       "    .dataframe thead th {\n",
       "        text-align: right;\n",
       "    }\n",
       "</style>\n",
       "<table border=\"1\" class=\"dataframe\">\n",
       "  <thead>\n",
       "    <tr style=\"text-align: right;\">\n",
       "      <th></th>\n",
       "      <th>index</th>\n",
       "      <th>links</th>\n",
       "    </tr>\n",
       "  </thead>\n",
       "  <tbody>\n",
       "    <tr>\n",
       "      <th>0</th>\n",
       "      <td>YER061C</td>\n",
       "      <td>YOR221C</td>\n",
       "    </tr>\n",
       "    <tr>\n",
       "      <th>1</th>\n",
       "      <td>YER061C</td>\n",
       "      <td>YKL055C</td>\n",
       "    </tr>\n",
       "    <tr>\n",
       "      <th>2</th>\n",
       "      <td>YER061C</td>\n",
       "      <td>YKL192C</td>\n",
       "    </tr>\n",
       "    <tr>\n",
       "      <th>3</th>\n",
       "      <td>YER061C</td>\n",
       "      <td>YPL148C</td>\n",
       "    </tr>\n",
       "    <tr>\n",
       "      <th>4</th>\n",
       "      <td>YER061C</td>\n",
       "      <td>YAR035W</td>\n",
       "    </tr>\n",
       "    <tr>\n",
       "      <th>...</th>\n",
       "      <td>...</td>\n",
       "      <td>...</td>\n",
       "    </tr>\n",
       "    <tr>\n",
       "      <th>8921</th>\n",
       "      <td>YHR001W_A</td>\n",
       "      <td>YMR118C</td>\n",
       "    </tr>\n",
       "    <tr>\n",
       "      <th>8922</th>\n",
       "      <td>YHR001W_A</td>\n",
       "      <td>YJL045W</td>\n",
       "    </tr>\n",
       "    <tr>\n",
       "      <th>8923</th>\n",
       "      <td>YHR001W_A</td>\n",
       "      <td>YDR178W</td>\n",
       "    </tr>\n",
       "    <tr>\n",
       "      <th>8924</th>\n",
       "      <td>YCR073W_A</td>\n",
       "      <td>YGR256W</td>\n",
       "    </tr>\n",
       "    <tr>\n",
       "      <th>8925</th>\n",
       "      <td>YCR073W_A</td>\n",
       "      <td>YHR183W</td>\n",
       "    </tr>\n",
       "  </tbody>\n",
       "</table>\n",
       "<p>8926 rows × 2 columns</p>\n",
       "</div>"
      ],
      "text/plain": [
       "          index    links\n",
       "0       YER061C  YOR221C\n",
       "1       YER061C  YKL055C\n",
       "2       YER061C  YKL192C\n",
       "3       YER061C  YPL148C\n",
       "4       YER061C  YAR035W\n",
       "...         ...      ...\n",
       "8921  YHR001W_A  YMR118C\n",
       "8922  YHR001W_A  YJL045W\n",
       "8923  YHR001W_A  YDR178W\n",
       "8924  YCR073W_A  YGR256W\n",
       "8925  YCR073W_A  YHR183W\n",
       "\n",
       "[8926 rows x 2 columns]"
      ]
     },
     "execution_count": 20,
     "metadata": {},
     "output_type": "execute_result"
    }
   ],
   "source": [
    "df1 = pd.DataFrame({'index':df.index.repeat(df.links.str.len()), 'links':df.links.sum()})\n",
    "df1"
   ]
  },
  {
   "cell_type": "code",
   "execution_count": 21,
   "metadata": {},
   "outputs": [
    {
     "name": "stdout",
     "output_type": "stream",
     "text": [
      "                  reactions              substrates            products links\n",
      "YDL142C         [CLPNSm_SC]  [cdpdag_SC_m, pg_SC_m]  [clpn_SC_m, cmp_m]    []\n",
      "YAR071W             [ACP1e]                 [fmn_e]          [ribflv_e]    []\n",
      "YDR044W            [CPPPGO]              [cpppg3_c]           [pppg9_c]    []\n",
      "YBR132C              [CRNt]                 [crn_e]             [crn_c]    []\n",
      "YPL148C             [ACPSm]                 [coa_m]    [pan4p_m, pap_m]    []\n",
      "...                     ...                     ...                 ...   ...\n",
      "YPL212C             [YUMPS]          [r5p_c, ura_c]           [psd5p_c]    []\n",
      "YNL292W             [YUMPS]          [r5p_c, ura_c]           [psd5p_c]    []\n",
      "YGL063W             [YUMPS]          [r5p_c, ura_c]           [psd5p_c]    []\n",
      "YFL001W             [YUMPS]          [r5p_c, ura_c]           [psd5p_c]    []\n",
      "YHR039C_A  [ATPS3g, ATPS3v]          [adp_g, adp_v]      [atp_g, atp_v]    []\n",
      "\n",
      "[85 rows x 4 columns]\n"
     ]
    }
   ],
   "source": [
    "# show genes having no links\n",
    "print(df.loc[df['links'].str.len() == 0])"
   ]
  },
  {
   "cell_type": "code",
   "execution_count": 22,
   "metadata": {},
   "outputs": [],
   "source": [
    "G = nx.from_pandas_edgelist(df=df1, source='index', target='links')"
   ]
  },
  {
   "cell_type": "code",
   "execution_count": 23,
   "metadata": {},
   "outputs": [],
   "source": [
    "# get subgraphs\n",
    "def connected_component_subgraphs(G):\n",
    "    for c in nx.connected_components(G):\n",
    "        yield G.subgraph(c)"
   ]
  },
  {
   "cell_type": "code",
   "execution_count": 24,
   "metadata": {},
   "outputs": [],
   "source": [
    "giant = max(connected_component_subgraphs(G), key=len)"
   ]
  },
  {
   "cell_type": "code",
   "execution_count": 25,
   "metadata": {},
   "outputs": [
    {
     "data": {
      "text/plain": [
       "684"
      ]
     },
     "execution_count": 25,
     "metadata": {},
     "output_type": "execute_result"
    }
   ],
   "source": [
    "giant.number_of_nodes()"
   ]
  },
  {
   "cell_type": "markdown",
   "metadata": {},
   "source": [
    "## Laplacian and Eigen"
   ]
  },
  {
   "cell_type": "code",
   "execution_count": 26,
   "metadata": {},
   "outputs": [
    {
     "data": {
      "text/plain": [
       "matrix([[12,  0,  0, ...,  0,  0, -1],\n",
       "        [ 0, 30,  0, ...,  0,  0,  0],\n",
       "        [ 0,  0, 30, ...,  0,  0,  0],\n",
       "        ...,\n",
       "        [ 0,  0,  0, ...,  3,  0,  0],\n",
       "        [ 0,  0,  0, ...,  0, 12,  0],\n",
       "        [-1,  0,  0, ...,  0,  0, 26]], dtype=int64)"
      ]
     },
     "execution_count": 26,
     "metadata": {},
     "output_type": "execute_result"
    }
   ],
   "source": [
    "# Laplacian Matrix\n",
    "L = nx.laplacian_matrix(giant, nodelist=sorted(giant.nodes()))\n",
    "L.todense()"
   ]
  },
  {
   "cell_type": "code",
   "execution_count": 27,
   "metadata": {},
   "outputs": [
    {
     "data": {
      "text/plain": [
       "(array([1.51058453e+02, 1.39744082e+02, 1.38000000e+02, 1.47000000e+02,\n",
       "        1.47000000e+02, 9.93919628e+01, 9.64248008e+01, 9.32659273e+01,\n",
       "        8.53306905e+01, 8.24209822e+01, 8.15589779e+01, 7.96571079e+01,\n",
       "        7.48742895e+01, 7.09399596e+01, 6.93973882e+01, 6.81754466e+01,\n",
       "        6.74557535e+01, 6.58479230e+01, 6.80000000e+01, 6.36404772e+01,\n",
       "        6.20168209e+01, 6.04402857e+01, 6.40000000e+01, 5.81964159e+01,\n",
       "        5.68843862e+01, 5.52422622e+01, 5.53342077e+01, 5.39496030e+01,\n",
       "        5.90000000e+01, 5.24869073e+01, 5.06424052e+01, 5.70000000e+01,\n",
       "        6.40000000e+01, 5.30000000e+01, 4.95458660e+01, 4.93846670e+01,\n",
       "        4.90857376e+01, 4.88388610e+01, 4.84925806e+01, 4.82094084e+01,\n",
       "        4.78613392e+01, 4.66794426e+01, 4.62649948e+01, 4.56025714e+01,\n",
       "        4.48229807e+01, 4.90000000e+01, 4.44603374e+01, 4.38832495e+01,\n",
       "        4.41162702e+01, 4.31890664e+01, 4.27366180e+01, 4.70000000e+01,\n",
       "        4.23310314e+01, 4.19293484e+01, 4.12238251e+01, 4.06544781e+01,\n",
       "        4.01976362e+01, 4.70000000e+01, 4.01254930e+01, 3.98101288e+01,\n",
       "        4.30000000e+01, 3.91471900e+01, 4.20000000e+01, 3.86294996e+01,\n",
       "        3.82980340e+01, 3.80397317e+01, 3.80578828e+01, 3.66225623e+01,\n",
       "        3.65411061e+01, 3.62769970e+01, 3.61299589e+01, 3.59520337e+01,\n",
       "        3.55571732e+01, 3.53687637e+01, 3.60000000e+01, 3.47096444e+01,\n",
       "        3.43318797e+01, 3.42549643e+01, 3.41367151e+01, 3.40503357e+01,\n",
       "        3.40828087e+01, 3.34832293e+01, 3.32788920e+01, 3.31058872e+01,\n",
       "        3.30485470e+01, 3.29919000e+01, 3.22258185e+01, 3.18570863e+01,\n",
       "        3.20043822e+01, 3.17244070e+01, 3.13477551e+01, 3.14421585e+01,\n",
       "        3.11522514e+01, 3.07538571e+01, 3.05546746e+01, 2.81712249e+01,\n",
       "        2.85533834e+01, 2.90807787e+01, 3.20000000e+01, 3.01585030e+01,\n",
       "        3.00067440e+01, 2.76869174e+01, 2.69902033e+01, 3.10000000e+01,\n",
       "        2.64125695e+01, 2.62338073e+01, 2.57541633e+01, 2.57763570e+01,\n",
       "        3.30000000e+01, 2.52536142e+01, 8.52652887e-14, 2.90000000e+01,\n",
       "        3.00000000e+01, 2.50759735e+01, 2.46767422e+01, 2.50067960e+01,\n",
       "        2.48730025e+01, 2.42854561e+01, 2.43081604e+01, 3.30000000e+01,\n",
       "        3.00000000e+01, 3.00000000e+01, 3.20000000e+01, 3.20000000e+01,\n",
       "        3.10000000e+01, 3.10000000e+01, 2.90000000e+01, 2.70000000e+01,\n",
       "        2.34629392e+01, 2.33193549e+01, 3.00000000e+01, 2.33432031e+01,\n",
       "        2.30911644e+01, 3.00000000e+01, 2.30138546e+01, 2.60000000e+01,\n",
       "        2.40000000e+01, 2.50000000e+01, 2.26631112e+01, 2.25276786e+01,\n",
       "        2.25606488e+01, 2.60000000e+01, 2.60000000e+01, 2.23649730e+01,\n",
       "        2.22513671e+01, 2.50000000e+01, 2.50000000e+01, 2.18410214e+01,\n",
       "        2.15281319e+01, 2.16341598e+01, 2.17240810e+01, 2.12886353e+01,\n",
       "        2.12334525e+01, 2.11216120e+01, 2.08517319e+01, 2.09827583e+01,\n",
       "        2.03415622e+01, 2.04410289e+01, 2.05605125e+01, 2.06032340e+01,\n",
       "        2.07443283e+01, 2.06968112e+01, 2.07227343e+01, 2.06766508e+01,\n",
       "        2.02403707e+01, 1.95152585e+01, 1.99471570e+01, 2.01515392e+01,\n",
       "        2.01385607e+01, 1.92606537e+01, 1.90789218e+01, 1.94028615e+01,\n",
       "        1.92125977e+01, 1.88288091e+01, 1.90045651e+01, 1.85989531e+01,\n",
       "        1.84187456e+01, 1.85009196e+01, 1.77965704e+01, 1.77581199e+01,\n",
       "        2.20000000e+01, 2.20000000e+01, 2.00000000e+01, 2.20000000e+01,\n",
       "        1.77299234e+01, 1.70230395e+01, 1.75145019e+01, 1.73568151e+01,\n",
       "        1.76736885e+01, 1.76550390e+01, 1.72623551e+01, 2.10000000e+01,\n",
       "        1.72828571e+01, 1.71111160e+01, 1.72248595e+01, 1.71494952e+01,\n",
       "        2.10000000e+01, 2.20000000e+01, 2.60000000e+01, 2.60000000e+01,\n",
       "        2.50000000e+01, 3.00000000e+01, 3.00000000e+01, 3.00000000e+01,\n",
       "        2.60000000e+01, 3.00000000e+01, 1.75654789e-01, 2.50000000e+01,\n",
       "        2.07173400e-01, 3.48969376e-01, 3.73088105e-01, 2.00000000e+01,\n",
       "        4.53679466e-01, 5.08079415e-01, 5.45397532e-01, 1.90000000e+01,\n",
       "        5.79257107e-01, 1.90000000e+01, 1.70222919e+01, 6.69528515e-01,\n",
       "        1.68362332e+01, 1.67986353e+01, 1.67683067e+01, 1.66870220e+01,\n",
       "        1.66410430e+01, 1.65474740e+01, 1.70000000e+01, 1.64241336e+01,\n",
       "        1.63967844e+01, 1.63470997e+01, 1.63084364e+01, 1.61993316e+01,\n",
       "        1.61595067e+01, 1.60213270e+01, 1.61030260e+01, 1.60847867e+01,\n",
       "        1.59021180e+01, 1.58470241e+01, 1.57066988e+01, 1.57637094e+01,\n",
       "        7.61112688e-01, 1.56502443e+01, 1.55534805e+01, 1.55133725e+01,\n",
       "        7.80024624e-01, 7.96436738e-01, 1.54226138e+01, 1.53983678e+01,\n",
       "        8.15150054e-01, 8.28511120e-01, 8.37710761e-01, 1.52620000e+01,\n",
       "        1.52106904e+01, 1.51231591e+01, 1.51744029e+01, 1.50282984e+01,\n",
       "        1.60000000e+01, 1.50037492e+01, 1.48839300e+01, 1.47561882e+01,\n",
       "        1.41628552e+01, 1.47199952e+01, 1.42794782e+01, 1.43370100e+01,\n",
       "        1.46342832e+01, 1.43930088e+01, 1.45644116e+01, 1.45535532e+01,\n",
       "        1.44825663e+01, 1.12450202e+00, 1.20105490e+00, 1.28639138e+00,\n",
       "        8.57656596e-01, 8.67625139e-01, 2.70922582e+00, 1.42411621e+00,\n",
       "        8.74464749e-01, 1.45063825e+00, 2.63473137e+00, 1.48765774e+00,\n",
       "        8.86728879e-01, 2.58559854e+00, 2.56065154e+00, 8.95167372e-01,\n",
       "        9.54666419e-01, 9.68196022e-01, 9.77902895e-01, 2.50943136e+00,\n",
       "        2.42017770e+00, 2.46994919e+00, 2.44641259e+00, 9.42059189e-01,\n",
       "        9.34431646e-01, 9.30058612e-01, 2.33422670e+00, 1.58362994e+00,\n",
       "        1.00480620e+00, 9.17357447e-01, 9.15324926e-01, 2.25514187e+00,\n",
       "        2.29272727e+00, 1.59753158e+00, 9.10693634e-01, 1.60967275e+00,\n",
       "        9.06851436e-01, 2.12463030e+00, 1.61370348e+00, 1.64364921e+00,\n",
       "        9.07720494e-01, 9.08671609e-01, 2.10008115e+00, 2.05445149e+00,\n",
       "        1.63601433e+00, 1.68593627e+00, 1.70964876e+00, 1.74390243e+00,\n",
       "        1.97777420e+00, 1.96332841e+00, 1.93799440e+00, 1.77577197e+00,\n",
       "        1.90273441e+00, 1.91418065e+00, 1.78285033e+00, 1.86624385e+00,\n",
       "        1.88844080e+00, 1.78560595e+00, 1.87501925e+00, 1.82227634e+00,\n",
       "        1.80737942e+00, 1.83012229e+00, 1.85304377e+00, 2.60000000e+01,\n",
       "        2.50000000e+01, 1.40343733e+01, 1.50000000e+01, 3.29576031e+00,\n",
       "        2.75670281e+00, 2.53023139e+00, 2.60000000e+01, 2.00000000e+01,\n",
       "        1.90000000e+01, 1.70000000e+01, 1.39381847e+01, 1.39808307e+01,\n",
       "        1.38597554e+01, 1.38230135e+01, 1.37271599e+01, 1.36800507e+01,\n",
       "        1.35785922e+01, 3.19468790e+00, 2.92339315e+00, 2.90429079e+00,\n",
       "        3.04676516e+00, 1.70000000e+01, 1.60000000e+01, 1.40000000e+01,\n",
       "        1.35000270e+01, 1.34813256e+01, 1.34328473e+01, 1.33699171e+01,\n",
       "        1.33422875e+01, 1.34123193e+01, 1.32599238e+01, 1.31987954e+01,\n",
       "        1.24797249e+01, 1.25391315e+01, 1.30987196e+01, 1.31186720e+01,\n",
       "        3.54279092e+00, 3.57459043e+00, 1.26141435e+01, 1.26978466e+01,\n",
       "        1.29988546e+01, 1.28596920e+01, 1.27874152e+01, 1.29145260e+01,\n",
       "        2.99933003e+00, 3.66263589e+00, 3.72834868e+00, 1.27393871e+01,\n",
       "        4.27305151e+00, 3.81107676e+00, 4.21935127e+00, 4.21242646e+00,\n",
       "        1.29351212e+01, 3.86820735e+00, 3.90281341e+00, 4.11444928e+00,\n",
       "        4.13344815e+00, 4.02698481e+00, 4.04981432e+00, 3.93142361e+00,\n",
       "        3.99155959e+00, 3.94838321e+00, 3.95250377e+00, 2.20000000e+01,\n",
       "        1.23947591e+01, 4.39356817e+00, 4.44466395e+00, 4.59917697e+00,\n",
       "        1.22371767e+01, 1.21935848e+01, 4.60922807e+00, 1.30000000e+01,\n",
       "        1.22602591e+01, 1.21429512e+01, 1.20682161e+01, 1.20984263e+01,\n",
       "        4.71248823e+00, 4.75443500e+00, 1.15756246e+01, 1.14315215e+01,\n",
       "        1.19581069e+01, 1.19327463e+01, 9.67052169e+00, 9.46463092e+00,\n",
       "        9.62293318e+00, 9.55221091e+00, 9.40865445e+00, 7.70991533e+00,\n",
       "        7.60309537e+00, 7.40995527e+00, 7.84235610e+00, 9.30239784e+00,\n",
       "        9.25843878e+00, 7.90649209e+00, 7.32486898e+00, 7.31097792e+00,\n",
       "        7.28841646e+00, 6.65330088e+00, 7.13707615e+00, 7.08562529e+00,\n",
       "        8.59742529e+00, 7.03945439e+00, 8.49832372e+00, 8.13556825e+00,\n",
       "        8.16989106e+00, 6.98891276e+00, 8.39738458e+00, 8.36922184e+00,\n",
       "        8.22457065e+00, 6.86841872e+00, 6.92124542e+00, 6.83950237e+00,\n",
       "        6.89301304e+00, 8.43753547e+00, 8.28395522e+00, 8.26265877e+00,\n",
       "        1.00000000e+00, 4.86007675e+00, 6.59053966e+00, 9.19211620e+00,\n",
       "        1.00959885e+01, 1.02479875e+01, 1.04438346e+01, 1.03840367e+01,\n",
       "        1.04934068e+01, 9.05150456e+00, 1.19756686e+01, 1.14208440e+01,\n",
       "        1.08347942e+01, 1.13381236e+01, 1.15921461e+01, 1.09042225e+01,\n",
       "        1.16603942e+01, 1.18613672e+01, 8.71252396e+00, 1.07400948e+01,\n",
       "        1.12028630e+01, 1.18315579e+01, 1.17432802e+01, 1.12654374e+01,\n",
       "        8.69210257e+00, 1.19403612e+01, 1.18811179e+01, 9.75188300e+00,\n",
       "        8.86330712e+00, 8.85387619e+00, 2.00000000e+00, 4.96032037e+00,\n",
       "        5.07400345e+00, 5.11263500e+00, 6.46534823e+00, 6.40802949e+00,\n",
       "        6.40025181e+00, 6.30564750e+00, 1.16470140e+01, 9.85879688e+00,\n",
       "        1.03054811e+01, 1.05507575e+01, 1.12080063e+01, 1.10344624e+01,\n",
       "        1.11286184e+01, 1.09157059e+01, 9.10265794e+00, 1.10078062e+01,\n",
       "        1.11386457e+01, 1.07317145e+01, 8.80871556e+00, 9.97980786e+00,\n",
       "        9.89771467e+00, 9.94713534e+00, 8.79594234e+00, 6.78471138e+00,\n",
       "        8.93358341e+00, 9.91451282e+00, 5.01147130e+00, 6.34797264e+00,\n",
       "        5.20609510e+00, 5.22649910e+00, 6.21110225e+00, 5.26790960e+00,\n",
       "        6.19605970e+00, 5.31462034e+00, 6.15834749e+00, 5.88772192e+00,\n",
       "        5.79070349e+00, 5.52387971e+00, 5.74761103e+00, 5.33138362e+00,\n",
       "        5.49881344e+00, 6.12612066e+00, 5.92012573e+00, 5.55836796e+00,\n",
       "        6.09222747e+00, 5.37398782e+00, 5.36103931e+00, 5.71938200e+00,\n",
       "        5.62564997e+00, 5.39137782e+00, 5.41336106e+00, 6.04530709e+00,\n",
       "        6.06421218e+00, 5.98105263e+00, 5.65064744e+00, 1.18001671e+01,\n",
       "        1.18079251e+01, 5.64600329e+00, 5.66976713e+00, 1.00000000e+00,\n",
       "        1.00000000e+00, 1.00000000e+00, 1.00000000e+00, 1.60000000e+01,\n",
       "        1.50000000e+01, 1.40000000e+01, 7.00000000e+00, 3.00000000e+00,\n",
       "        4.00000000e+00, 3.00000000e+00, 8.00000000e+00, 8.00000000e+00,\n",
       "        9.00000000e+00, 4.00000000e+00, 1.20000000e+01, 3.00000000e+00,\n",
       "        1.20000000e+01, 3.00000000e+00, 6.00000000e+00, 6.00000000e+00,\n",
       "        1.10000000e+01, 1.10000000e+01, 1.00000000e+01, 1.00000000e+01,\n",
       "        1.00000000e+01, 5.00000000e+00, 5.00000000e+00, 5.00000000e+00,\n",
       "        5.00000000e+00, 5.00000000e+00, 1.20000000e+01, 1.20000000e+01,\n",
       "        3.00000000e+01, 1.90000000e+01, 1.70000000e+01, 1.40000000e+01,\n",
       "        7.00000000e+00, 7.00000000e+00, 3.00000000e+00, 8.00000000e+00,\n",
       "        8.00000000e+00, 8.00000000e+00, 8.00000000e+00, 3.00000000e+01,\n",
       "        3.00000000e+01, 2.60000000e+01, 2.20000000e+01, 2.00000000e+00,\n",
       "        1.90000000e+01, 1.90000000e+01, 1.90000000e+01, 1.60000000e+01,\n",
       "        1.00000000e+00, 9.00000000e+00, 9.00000000e+00, 1.10000000e+01,\n",
       "        1.40000000e+01, 3.00000000e+00, 7.00000000e+00, 6.00000000e+00,\n",
       "        6.00000000e+00, 1.00000000e+01, 1.00000000e+01, 1.00000000e+01,\n",
       "        1.00000000e+01, 1.00000000e+01, 2.20000000e+01, 3.00000000e+01,\n",
       "        3.00000000e+01, 3.00000000e+01, 3.00000000e+01, 4.00000000e+00,\n",
       "        1.70000000e+01, 1.70000000e+01, 1.50000000e+01, 1.50000000e+01,\n",
       "        1.50000000e+01, 5.00000000e+00, 3.00000000e+00, 3.00000000e+00,\n",
       "        3.00000000e+00, 5.00000000e+00, 1.50000000e+01, 1.50000000e+01,\n",
       "        1.50000000e+01, 1.50000000e+01, 8.00000000e+00, 5.00000000e+00,\n",
       "        1.50000000e+01, 3.00000000e+01, 1.90000000e+01, 1.60000000e+01,\n",
       "        1.90000000e+01, 1.70000000e+01, 1.60000000e+01, 1.40000000e+01,\n",
       "        1.10000000e+01, 9.00000000e+00, 6.00000000e+00, 7.00000000e+00,\n",
       "        1.70000000e+01, 1.70000000e+01, 1.60000000e+01, 1.10000000e+01,\n",
       "        6.00000000e+00, 9.00000000e+00, 9.00000000e+00, 1.10000000e+01,\n",
       "        6.00000000e+00, 9.00000000e+00, 6.00000000e+00, 1.20000000e+01,\n",
       "        1.20000000e+01, 1.20000000e+01, 8.00000000e+00, 3.00000000e+00,\n",
       "        3.00000000e+00, 1.20000000e+01, 3.00000000e+00, 1.20000000e+01,\n",
       "        1.20000000e+01, 8.00000000e+00, 8.00000000e+00, 5.00000000e+00,\n",
       "        5.00000000e+00, 3.00000000e+00, 1.50000000e+01, 8.00000000e+00,\n",
       "        3.00000000e+00, 3.00000000e+00, 1.20000000e+01, 1.20000000e+01,\n",
       "        1.20000000e+01, 8.00000000e+00, 8.00000000e+00, 3.00000000e+00,\n",
       "        8.00000000e+00, 1.20000000e+01, 1.20000000e+01, 1.20000000e+01,\n",
       "        8.00000000e+00, 8.00000000e+00, 1.20000000e+01, 1.20000000e+01]),\n",
       " matrix([[ 1.09404418e-06, -1.02197672e-06,  2.22402805e-16, ...,\n",
       "          -1.77224764e-18, -1.65879095e-02, -7.15114771e-03],\n",
       "         [-1.26410093e-02, -4.89856040e-03,  1.17497718e-16, ...,\n",
       "           2.81218489e-17, -1.77785304e-16, -4.15092956e-17],\n",
       "         [-1.26410093e-02, -4.89856040e-03,  1.63900938e-16, ...,\n",
       "          -3.26630910e-17,  1.92698753e-16,  9.37787893e-17],\n",
       "         ...,\n",
       "         [-1.44978457e-05,  1.29851053e-05,  4.58480533e-19, ...,\n",
       "          -5.63515972e-16, -1.81507356e-17,  3.15604536e-16],\n",
       "         [-3.20990605e-04,  2.56901216e-04, -5.03731672e-17, ...,\n",
       "          -1.02184917e-16, -9.95582581e-16, -3.08772844e-15],\n",
       "         [-1.29902838e-05,  1.11518621e-05,  4.88534742e-17, ...,\n",
       "          -2.14672604e-18,  1.14976894e-16,  1.24567556e-16]]))"
      ]
     },
     "execution_count": 27,
     "metadata": {},
     "output_type": "execute_result"
    }
   ],
   "source": [
    "eig = np.linalg.eig(L.todense())\n",
    "eig"
   ]
  },
  {
   "cell_type": "markdown",
   "metadata": {},
   "source": [
    "## Plotting"
   ]
  },
  {
   "cell_type": "code",
   "execution_count": 28,
   "metadata": {},
   "outputs": [],
   "source": [
    "def draw_sub(k, eig, G, layout, ccmap, vmin, vmax):\n",
    "    i = np.argpartition(eig[0], k)[k]\n",
    "    v = eig[1].real[:, i].T.tolist()[0]\n",
    "    # node_color is the coefficient of eigenvectors \n",
    "    nx.draw(G, layout, node_size=100, node_color=v, edge_color=\"#cccccc\", edgecolors='#000000', cmap=ccmap, vmin=vmin, vmax=vmax)\n",
    "    plt.axis('off')\n",
    "    sm = plt.cm.ScalarMappable(cmap=ccmap, norm=plt.Normalize(vmin=vmin, vmax=vmax))\n",
    "    sm.set_array([])\n",
    "#     plt.colorbar(sm)\n",
    "#     plt.title('k = {}'.format(k))"
   ]
  },
  {
   "cell_type": "code",
   "execution_count": 29,
   "metadata": {},
   "outputs": [],
   "source": [
    "def change_scale(eig):\n",
    "    # smallest coefficient\n",
    "    vmin = np.amin(eig[1])\n",
    "    # largest coefficient\n",
    "    vmax = np.amax(eig[1])\n",
    "    if vmin*vmax < 0:\n",
    "        v = max(abs(vmin), abs(vmax))\n",
    "        vmin = -v\n",
    "        vmax = v\n",
    "    # if vmin and vmax have the same sign, the colorbar can't be symmetrical.\n",
    "    return vmin, vmax"
   ]
  },
  {
   "cell_type": "markdown",
   "metadata": {},
   "source": [
    "## Make Color Map"
   ]
  },
  {
   "cell_type": "code",
   "execution_count": 30,
   "metadata": {},
   "outputs": [],
   "source": [
    "from matplotlib import cm\n",
    "from matplotlib.colors import ListedColormap\n",
    "from matplotlib.colors import LinearSegmentedColormap\n",
    "winter = cm.get_cmap('winter', 128)\n",
    "autumn = cm.get_cmap('autumn_r', 128)\n",
    "\n",
    "newcolors = np.vstack((winter(np.linspace(0, 1, 128)),\n",
    "                       autumn(np.linspace(0, 1, 128))))\n",
    "ccmap = ListedColormap(newcolors, name='OrangeBlue')"
   ]
  },
  {
   "cell_type": "code",
   "execution_count": 31,
   "metadata": {},
   "outputs": [],
   "source": [
    "plt.rc('figure', figsize=(30, 30))\n",
    "K = 5/np.sqrt(giant.order())\n",
    "layout = nx.spring_layout(G, k=K, seed=3)"
   ]
  },
  {
   "cell_type": "markdown",
   "metadata": {},
   "source": [
    "## Plot"
   ]
  },
  {
   "cell_type": "code",
   "execution_count": 32,
   "metadata": {
    "scrolled": true
   },
   "outputs": [],
   "source": [
    "# n0 = 6\n",
    "# n_sub = n0 ** 2\n",
    "# base = len(eig[0]) // (n_sub - 2)\n",
    "# k_lst0 = [0, 1]\n",
    "# k_lst1 = [x * base for x in range(1, n_sub-2)]\n",
    "# k_lst2 = [len(eig[0])-1]\n",
    "# k_lst = k_lst0 + k_lst1 + k_lst2\n",
    "# vmin, vmax = change_scale(eig)\n",
    "# for i, k in enumerate(k_lst):\n",
    "# #     plt.subplot(n0, n0, i+1)\n",
    "#     draw_sub(k, eig, giant, layout, ccmap, vmin, vmax)\n",
    "#     plt.savefig('../output/{}.png'.format(k))\n",
    "# # plt.tight_layout()\n",
    "# # plt.show()"
   ]
  },
  {
   "cell_type": "markdown",
   "metadata": {},
   "source": [
    "## Size vs index"
   ]
  },
  {
   "cell_type": "code",
   "execution_count": 33,
   "metadata": {},
   "outputs": [
    {
     "data": {
      "text/plain": [
       "{'0': 373564,\n",
       " '1': 387892,\n",
       " '20': 387873,\n",
       " '40': 389502,\n",
       " '60': 389398,\n",
       " '80': 389802,\n",
       " '100': 391082,\n",
       " '120': 390617,\n",
       " '140': 391610,\n",
       " '160': 391599,\n",
       " '180': 392021,\n",
       " '200': 391937,\n",
       " '220': 393207,\n",
       " '240': 392673,\n",
       " '260': 392822,\n",
       " '280': 393817,\n",
       " '300': 393620,\n",
       " '320': 394037,\n",
       " '340': 394574,\n",
       " '360': 394341,\n",
       " '380': 395378,\n",
       " '400': 395401,\n",
       " '420': 395712,\n",
       " '440': 395829,\n",
       " '460': 396388,\n",
       " '480': 396496,\n",
       " '500': 396795,\n",
       " '520': 396925,\n",
       " '540': 397345,\n",
       " '560': 398135,\n",
       " '580': 398104,\n",
       " '600': 398181,\n",
       " '620': 398455,\n",
       " '640': 399883,\n",
       " '660': 399190,\n",
       " '683': 399685}"
      ]
     },
     "execution_count": 33,
     "metadata": {},
     "output_type": "execute_result"
    }
   ],
   "source": [
    "import os\n",
    "import collections\n",
    "from PIL import Image\n",
    "f_name = os.listdir('../output/')\n",
    "f_name = [str(pre)+'.png' for pre in sorted([int(os.path.splitext(f)[0]) for f in f_name if '.png' in f])]\n",
    "size_dict = dict()\n",
    "for f in f_name:\n",
    "    im = Image.open(\"../output/\"+f)\n",
    "    rgb_im = im.convert('RGB')\n",
    "    name = os.path.splitext(f)[0]\n",
    "    rgb_im.save(\"../output/\"+name+'.jpg')\n",
    "    size_dict[name] = os.path.getsize('../output/{}'.format(name+'.jpg'))\n",
    "size_dict"
   ]
  },
  {
   "cell_type": "code",
   "execution_count": 34,
   "metadata": {},
   "outputs": [
    {
     "data": {
      "text/plain": [
       "26319"
      ]
     },
     "execution_count": 34,
     "metadata": {},
     "output_type": "execute_result"
    }
   ],
   "source": [
    "np.max(list(size_dict.values())) - np.min(list(size_dict.values()))"
   ]
  },
  {
   "cell_type": "code",
   "execution_count": 35,
   "metadata": {},
   "outputs": [
    {
     "data": {
      "text/plain": [
       "[0.0,\n",
       " 0.0014619883040935672,\n",
       " 0.029239766081871343,\n",
       " 0.05847953216374269,\n",
       " 0.08771929824561403,\n",
       " 0.11695906432748537,\n",
       " 0.14619883040935672,\n",
       " 0.17543859649122806,\n",
       " 0.2046783625730994,\n",
       " 0.23391812865497075,\n",
       " 0.2631578947368421,\n",
       " 0.29239766081871343,\n",
       " 0.3216374269005848,\n",
       " 0.3508771929824561,\n",
       " 0.38011695906432746,\n",
       " 0.4093567251461988,\n",
       " 0.43859649122807015,\n",
       " 0.4678362573099415,\n",
       " 0.49707602339181284,\n",
       " 0.5263157894736842,\n",
       " 0.5555555555555556,\n",
       " 0.5847953216374269,\n",
       " 0.6140350877192983,\n",
       " 0.6432748538011696,\n",
       " 0.672514619883041,\n",
       " 0.7017543859649122,\n",
       " 0.7309941520467836,\n",
       " 0.7602339181286549,\n",
       " 0.7894736842105263,\n",
       " 0.8187134502923976,\n",
       " 0.847953216374269,\n",
       " 0.8771929824561403,\n",
       " 0.9064327485380117,\n",
       " 0.935672514619883,\n",
       " 0.9649122807017544,\n",
       " 0.9985380116959064]"
      ]
     },
     "execution_count": 35,
     "metadata": {},
     "output_type": "execute_result"
    }
   ],
   "source": [
    "index_lst = [int(i)/len(eig[1]) for i in list(size_dict.keys())]\n",
    "index_lst"
   ]
  },
  {
   "cell_type": "code",
   "execution_count": 36,
   "metadata": {},
   "outputs": [
    {
     "data": {
      "text/plain": [
       "[0.0,\n",
       " 0.5443975834948136,\n",
       " 0.5436756715680687,\n",
       " 0.6055701204453057,\n",
       " 0.6016186025304913,\n",
       " 0.6169687298149625,\n",
       " 0.665602796458832,\n",
       " 0.6479349519358638,\n",
       " 0.6856643489494282,\n",
       " 0.6852463999392074,\n",
       " 0.7012804437858581,\n",
       " 0.6980888331623541,\n",
       " 0.7463429461605684,\n",
       " 0.7260534214825791,\n",
       " 0.7317147308028421,\n",
       " 0.7695201185455375,\n",
       " 0.7620350317261294,\n",
       " 0.7778790987499525,\n",
       " 0.7982826095216383,\n",
       " 0.7894296895778715,\n",
       " 0.8288308826323189,\n",
       " 0.8297047760173258,\n",
       " 0.8415213343972036,\n",
       " 0.8459667920513697,\n",
       " 0.8672062008434971,\n",
       " 0.8713097002165736,\n",
       " 0.882670314221665,\n",
       " 0.887609711615183,\n",
       " 0.9035677647327026,\n",
       " 0.9335841027394658,\n",
       " 0.9324062464379346,\n",
       " 0.9353318895094799,\n",
       " 0.9457426194004331,\n",
       " 1.0,\n",
       " 0.9736692123560926,\n",
       " 0.9924769178160264]"
      ]
     },
     "execution_count": 36,
     "metadata": {},
     "output_type": "execute_result"
    }
   ],
   "source": [
    "size_lst = list(size_dict.values())\n",
    "s_lst = [s - min(size_lst) for s in size_lst]\n",
    "s_lst = [s / max(s_lst) for s in s_lst]\n",
    "s_lst"
   ]
  },
  {
   "cell_type": "code",
   "execution_count": 40,
   "metadata": {
    "scrolled": true
   },
   "outputs": [
    {
     "data": {
      "image/png": "[encoded data removed]",
      "text/plain": [
       "<Figure size 432x432 with 1 Axes>"
      ]
     },
     "metadata": {
      "needs_background": "light"
     },
     "output_type": "display_data"
    }
   ],
   "source": [
    "plt.rc('figure', figsize=(6, 6))\n",
    "plt.plot(index_lst, s_lst)\n",
    "plt.xlabel('Index')\n",
    "plt.ylabel('Size')\n",
    "plt.savefig('../images/iND750-smoothness.png')\n"
   ]
  },
  {
   "cell_type": "code",
   "execution_count": null,
   "metadata": {},
   "outputs": [],
   "source": []
  }
 ],
 "metadata": {
  "kernelspec": {
   "display_name": "Python 3",
   "language": "python",
   "name": "python3"
  },
  "language_info": {
   "codemirror_mode": {
    "name": "ipython",
    "version": 3
   },
   "file_extension": ".py",
   "mimetype": "text/x-python",
   "name": "python",
   "nbconvert_exporter": "python",
   "pygments_lexer": "ipython3",
   "version": "3.7.3"
  }
 },
 "nbformat": 4,
 "nbformat_minor": 2
}
